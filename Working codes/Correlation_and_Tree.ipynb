{
 "cells": [
  {
   "cell_type": "code",
   "execution_count": 1,
   "id": "9989225b-5ed6-40b9-9f28-ed7587bfbecd",
   "metadata": {},
   "outputs": [
    {
     "name": "stdout",
     "output_type": "stream",
     "text": [
      "Populating the interactive namespace from numpy and matplotlib\n"
     ]
    }
   ],
   "source": [
    "%pylab inline\n",
    "import ipywidgets as widgets\n",
    "from ipywidgets import interact, interactive, fixed, interact_manual\n",
    "import re\n",
    "from itertools import permutations, combinations, compress\n",
    "import os\n",
    "from scipy.signal import find_peaks, peak_prominences\n",
    "from ipywidgets import *\n",
    "from sklearn.cluster import KMeans\n",
    "\n",
    "from chart_studio import plotly\n",
    "import plotly.graph_objs as go\n",
    "from plotly.tools import FigureFactory as FF\n",
    "import peakutils\n",
    "from scipy.optimize import curve_fit\n",
    "from scipy.signal import peak_widths\n",
    "\n",
    "from sklearn import preprocessing\n",
    "import pandas as pd\n",
    "from mpl_toolkits.axes_grid1.inset_locator import inset_axes\n",
    "\n",
    "from sklearn.tree import DecisionTreeClassifier, plot_tree\n",
    "\n",
    "from IPython.display import clear_output\n"
   ]
  },
  {
   "cell_type": "code",
   "execution_count": null,
   "id": "16fe6528-7272-4df5-8abd-7b521c490460",
   "metadata": {},
   "outputs": [],
   "source": [
    "'''\n",
    "ossz_kombok = []\n",
    "for N in range(2,11):\n",
    "    faults = array([f'{i}b' for i in range(1,N)])\n",
    "    perms = []\n",
    "    kombok = []\n",
    "    for i in range(int(np.ceil(N/2))):\n",
    "        for perm in sorted(set(permutations(np.concatenate((-1*np.ones(i),np.ones(N-1-i)))))):\n",
    "            if list(perm)[::-1] not in perms and list(-1*np.array(perm)) not in perms:\n",
    "                perms.append(list(perm))\n",
    "                kombok.append((faults[np.array(perm) == -1]).tolist())\n",
    "    ossz_kombok.append(kombok)\n",
    "'''"
   ]
  },
  {
   "cell_type": "code",
   "execution_count": null,
   "id": "f310c108-639a-4738-be4f-b8d32cfca881",
   "metadata": {},
   "outputs": [],
   "source": [
    "#len(ossz_kombok),len(faultok_list)"
   ]
  },
  {
   "cell_type": "code",
   "execution_count": 2,
   "id": "f4dfb256-ff2f-4a7e-a088-6c195a6e1d5d",
   "metadata": {},
   "outputs": [],
   "source": [
    "a0 = 1; #length of unit cell vector.\n",
    "a1 = a0/2*np.array([np.sqrt(3), 1, 0]);\n",
    "a2 = a0/2*np.array([np.sqrt(3),-1, 0]);\n",
    "a3 = a0/2*np.array([0 ,0, 1]);\n",
    "\n",
    "#reciprocal lattice vectors:\n",
    "b1 = 2*np.pi/a0*np.matrix([1/np.sqrt(3),1]);\n",
    "b2 = 2*np.pi/a0*np.matrix([1/np.sqrt(3),-1]);\n",
    "a_cc = a0/np.sqrt(3); #carbon-carbon distance\n",
    "\n",
    "def chain_maker(N,in_list,suly=[]):\n",
    "    '''Ez a függvényecske egy ábrázoló rutin. Vár két bemenő paramétert, egy N számot, ami azt jelenti, hogy hány darab réteg legyen és egy in_list-et, amiben meg ott van benne, hogy hol legyenek a törések.\n",
    "    Fontos, hogy kétféle törés elképzelhető, a Bernal-fault és a T-hiba. Valahogy ki kéne találni valami intelligens eljárást arra, hogy ezt könveljük. Mivel a bernal hiba és a T hiba is végeredményben ugyan\n",
    "    azzal jár, lehet hogy csak már egy map-et fogok kérni. Mivel előreláthatólag csak én fogom használni ezt a rutint nincs is nagy jelentősége... Legyen akkor így, az input lista kicsit körülményes tud majd lenni, \n",
    "    legfeljebb később ezt majd módosítom.\n",
    "    Jelenleg úgy működik, hogy vár egy t vagy b karaktert, annak megfelelően, hogy milyen a hiba, aztán egy számot, hogy hányadik sorban legyen a hiba. '1t' azt jelenti, hogy az első réteg után kövekezik egy t hiba. stb.\n",
    "    '''\n",
    "    if len(suly) == 0:\n",
    "        suly = 50*np.ones((2*N,1)) #amikor ábrázolom, mekkorák legyenek a szén atomokon lévő, valószínűségabszolútérték felhők, amik ugye arányban állnak azzal, hogy mekkora a sűrűség egy adott site-on. A suly itt azt jelenti, hogy kezdetben ez egy.\n",
    "    #először tehát hozzuk létre a láncot! Kell egy array, aminek két oszlopa van, az x és y koordinátája a szénatomoknak. \n",
    "    x_cords = np.array([0]+list(np.kron(np.arange(1,N+1),[1,1])))[0:N*2] \n",
    "    y_cords = np.kron(range(N),[1,1])\n",
    "\n",
    "    #kössük össze\n",
    "\n",
    "    plt.axis('equal')            \n",
    "    # jöhetnek a törések. Ha törés van, akkor eggyel eltoljuk a szénatomokat balra. Először ki kell találni hogyan töltöm fel a\n",
    "    # törések között a cuccokat...\n",
    "    #volt már T tipusu hiba? Elsőként biztos nem\n",
    "    flag_T = False\n",
    "    if (in_list == ['']):\n",
    "        in_list = []\n",
    "    for string in in_list:\n",
    "        helyzet = (int(re.search(r'\\d+', string).group())) #kiszedjük, hogy melyik rétegre gondolt a költő\n",
    "        if ('b' in string or 'B' in string) and flag_T==False:   #ha bernal-ra, de még nem volt T hiba, akkor balra kell visszahúzni, ezért vonunk ki 2-t\n",
    "            x_cords[helyzet*2:]=x_cords[helyzet*2:]-2\n",
    "        if ('b' in string or 'B' in string) and flag_T==True:   #ha bernal a hiba de már volt korábban T hiba akkor jobbra kell lépni\n",
    "            x_cords[helyzet*2:]=x_cords[helyzet*2:]+2 \n",
    "            \n",
    "        if ('t' in string or 'T' in string):  #ha T hiba akkor simán tükrözni kell\n",
    "            x_cords[helyzet*2:]=2*np.mean([x_cords[helyzet*2-2],x_cords[helyzet*2-1]])-x_cords[helyzet*2:]\n",
    "            flag_T = not(flag_T)\n",
    "        \n",
    "    #ez itten már csak plottolásiból van\n",
    "    plt.scatter(x_cords,y_cords,s=suly);\n",
    "    for i in range(len(x_cords)):\n",
    "        for j in range(len(x_cords)):\n",
    "            if np.linalg.norm(np.array([x_cords[i],y_cords[i]])-np.array([x_cords[j],y_cords[j]])) < 1.1:\n",
    "                plt.plot([x_cords[i],x_cords[j]],[y_cords[j],y_cords[i]],'k'); #összeköttetés\n",
    "    #plt.xlabel(r'X Position [$a_0$]')\n",
    "    #plt.ylabel(r'Y Position [$a_0$]')\n",
    "    \n",
    "                \n",
    "    #plt.grid()\n",
    "    xticks(ticks=[])\n",
    "    yticks(ticks=[])\n",
    "    return a0/np.sqrt(3)*x_cords,y_cords, #itt írtál egy d szorzót az y-ra az nem volt definiálva\n"
   ]
  },
  {
   "cell_type": "code",
   "execution_count": null,
   "id": "956cdac5-f0f8-469c-94f7-6f833b22f544",
   "metadata": {},
   "outputs": [],
   "source": [
    "fig,axs = subplots(1,4,figsize=(20,5))\n",
    "fig.subplots_adjust(wspace=0)\n",
    "subplot(1,4,1)\n",
    "x_cords, y_cords = chain_maker(10,['2b','4b','6b'])\n",
    "subplot(1,4,2)\n",
    "x_cords, y_cords = chain_maker(5,[])\n",
    "subplot(1,4,3)\n",
    "x_cords, y_cords = chain_maker(8,[])\n",
    "subplot(1,4,4)\n",
    "x_cords, y_cords = chain_maker(10,[])\n",
    "\n"
   ]
  },
  {
   "cell_type": "code",
   "execution_count": null,
   "id": "874c4669-9bae-4c8c-8275-401a9604c76f",
   "metadata": {},
   "outputs": [],
   "source": [
    "figure(figsize=(5,5))\n",
    "x_cords, y_cords = chain_maker(10,['3b','5b','7b','9b'])"
   ]
  },
  {
   "cell_type": "code",
   "execution_count": 3,
   "id": "ff3a0656-06ff-49c1-8383-bfe1caf922c6",
   "metadata": {},
   "outputs": [],
   "source": [
    "directories_old = [name for name in os.listdir(\"sergej_gamma_1001_E_newcombs//sergej_gamma_1001_E//\") if os.path.isdir(f'sergej_gamma_1001_E_newcombs//sergej_gamma_1001_E//{name}')]\n",
    "pdos_list_old = [genfromtxt(f'sergej_gamma_1001_E_newcombs//sergej_gamma_1001_E//{s}//pdos_normed.dat',delimiter=';') for s in directories_old]\n"
   ]
  },
  {
   "cell_type": "code",
   "execution_count": 4,
   "id": "62ad5222-112c-4495-8cbe-2982eb329829",
   "metadata": {},
   "outputs": [],
   "source": [
    "directories_new = [name for name in os.listdir(\"getdicts//\") if os.path.isdir(f'getdicts//{name}')]\n"
   ]
  },
  {
   "cell_type": "code",
   "execution_count": 5,
   "id": "77336c4b-eea4-4a7b-a0f1-2a24c4ce5851",
   "metadata": {},
   "outputs": [
    {
     "data": {
      "text/plain": [
       "True"
      ]
     },
     "execution_count": 5,
     "metadata": {},
     "output_type": "execute_result"
    }
   ],
   "source": [
    "directories_new[123] in directories_old"
   ]
  },
  {
   "cell_type": "code",
   "execution_count": 6,
   "id": "317759c6-dc93-4703-8f73-2649f602fdee",
   "metadata": {},
   "outputs": [],
   "source": [
    "directories = [directory for directory in directories_old if directory in directories_new]\n",
    "pdos_list = [pdos for i,pdos in enumerate(pdos_list_old) if directories_old[i] in directories_new]"
   ]
  },
  {
   "cell_type": "code",
   "execution_count": null,
   "id": "f602d8e6-5300-46d5-a417-352c1e4ac705",
   "metadata": {},
   "outputs": [],
   "source": []
  },
  {
   "cell_type": "code",
   "execution_count": 7,
   "id": "9c19e57a-772d-4f72-a32a-1e2cb4149da8",
   "metadata": {},
   "outputs": [],
   "source": [
    "E = linspace(-1,1,1001)\n",
    "faultok_list = [s.split('[', 1)[1].split(']')[0].split(', ') for s in directories]\n",
    "N_list = [int(s.split('_')[0]) for s in directories]"
   ]
  },
  {
   "cell_type": "code",
   "execution_count": 8,
   "id": "5ba08622-3424-4e7f-8c1e-7fca2869d830",
   "metadata": {},
   "outputs": [],
   "source": [
    "pdos_top_sum_list = [pdos[-1] + pdos[-2] for pdos in pdos_list]\n",
    "pdos_bot_sum_list = [pdos[0] + pdos[1] for pdos in pdos_list]"
   ]
  },
  {
   "cell_type": "code",
   "execution_count": 9,
   "id": "bf9bfd07-3631-44f9-b4cf-66d37a08076b",
   "metadata": {},
   "outputs": [],
   "source": [
    "pdos_top_sum_df = pd.DataFrame(data=pdos_top_sum_list,columns=E)"
   ]
  },
  {
   "cell_type": "code",
   "execution_count": 10,
   "id": "86a89837-6214-40a7-a518-9fb3ebc85fb5",
   "metadata": {},
   "outputs": [
    {
     "data": {
      "text/plain": [
       "(301, 301, 301, 301)"
      ]
     },
     "execution_count": 10,
     "metadata": {},
     "output_type": "execute_result"
    }
   ],
   "source": [
    "len(pdos_top_sum_df), len(faultok_list), len(N_list), len(directories)"
   ]
  },
  {
   "cell_type": "markdown",
   "id": "a7405949-793a-40e2-83bd-f388013da5db",
   "metadata": {
    "jp-MarkdownHeadingCollapsed": true,
    "tags": []
   },
   "source": [
    "# Whole range Tree model"
   ]
  },
  {
   "cell_type": "code",
   "execution_count": null,
   "id": "227d8c21-a60f-4bd0-9447-27587b0bf695",
   "metadata": {},
   "outputs": [],
   "source": [
    "pdos_top_sum_df_train = pdos_top_sum_df.iloc[129:141]\n",
    "#pdos_top_sum_df_train['y'] = directories[129:141]\n",
    "#pdos_top_sum_df_train = pd.get_dummies(pdos_top_sum_df_train,columns=['y'])\n",
    "y_train = directories[129:141]\n",
    "y_train_oh = preprocessing.LabelEncoder().fit_transform(directories[129:141])"
   ]
  },
  {
   "cell_type": "code",
   "execution_count": null,
   "id": "78b3f9b4-b8cf-4770-9f5b-c6e79d7d9db9",
   "metadata": {},
   "outputs": [],
   "source": [
    "pdos_top_sum_df_test = pd.concat((pdos_top_sum_df.iloc[141:],pdos_top_sum_df.iloc[:129]))\n",
    "y_test = directories[141:] + directories[:129]\n"
   ]
  },
  {
   "cell_type": "code",
   "execution_count": null,
   "id": "4477e285-e833-44ca-8938-d5245e1145f9",
   "metadata": {},
   "outputs": [],
   "source": [
    "from sklearn.linear_model import LogisticRegression"
   ]
  },
  {
   "cell_type": "code",
   "execution_count": null,
   "id": "e8b77b6b-c620-43df-8e28-03f876969644",
   "metadata": {},
   "outputs": [],
   "source": [
    "pdos_top_sum_df_train"
   ]
  },
  {
   "cell_type": "code",
   "execution_count": null,
   "id": "6fa26dcf-9e2c-499a-aaf6-dd9a2f311966",
   "metadata": {},
   "outputs": [],
   "source": []
  },
  {
   "cell_type": "code",
   "execution_count": null,
   "id": "1cd514eb-7233-4aa3-a1d3-f25d28867e4c",
   "metadata": {},
   "outputs": [],
   "source": []
  },
  {
   "cell_type": "code",
   "execution_count": null,
   "id": "cfb343b6-247e-4915-9cc7-459e017ad6c6",
   "metadata": {},
   "outputs": [],
   "source": [
    "clf = DecisionTreeClassifier().fit(pdos_top_sum_df_train,y_train)"
   ]
  },
  {
   "cell_type": "code",
   "execution_count": null,
   "id": "c354b98e-a514-4b3e-8c32-a4445b5e71d7",
   "metadata": {},
   "outputs": [],
   "source": [
    "plt.figure(figsize = (30, 15))\n",
    "title(\"Minden\")\n",
    "plot_tree(clf, max_depth=20, filled=True, \n",
    "          feature_names=pdos_top_sum_df_train.columns, class_names=sorted(y_train),\n",
    "          fontsize = 8, proportion = True,);"
   ]
  },
  {
   "cell_type": "code",
   "execution_count": null,
   "id": "80a9e353-841c-4328-b8ae-bd37869e5681",
   "metadata": {},
   "outputs": [],
   "source": [
    "directories_pred = clf.predict(pdos_top_sum_df)"
   ]
  },
  {
   "cell_type": "code",
   "execution_count": null,
   "id": "dad8634a-ad7d-4dcf-a0f2-c004ab8e9753",
   "metadata": {},
   "outputs": [],
   "source": [
    "def abra(directory,directory_pred):\n",
    "    i = directories.index(directory)\n",
    "    i_pred = directories.index(directory_pred)\n",
    "    print(i)\n",
    "    print(directory)\n",
    "    fig = plt.figure(figsize=(9, 9),facecolor='white')\n",
    "    ax = fig.add_subplot(111)\n",
    "    plot(E,pdos_top_sum_list[i],label='Top-SUM')\n",
    "    plot(E,pdos_top_sum_list[i_pred],label='Top-SUM_pred')\n",
    "    grid()\n",
    "    title(f'{directory}')\n",
    "    legend(loc='upper right')\n",
    "    xlabel('E [eV]')\n",
    "    ylim(-1e4,8e4)\n",
    "    insax = inset_axes(ax, \n",
    "                    width=\"20%\", # width = 30% of parent_bbox\n",
    "                    height=\"20%\", # height : 1 inch\n",
    "                    loc=\"lower left\")\n",
    "    _ = chain_maker(N_list[i],faultok_list[i])\n",
    "    title(f\"true: {directories[i]}\")\n",
    "    insax = inset_axes(ax, \n",
    "                    width=\"20%\", # width = 30% of parent_bbox\n",
    "                    height=\"20%\", # height : 1 inch\n",
    "                    loc=\"lower right\")\n",
    "    _ = chain_maker(N_list[i_pred],faultok_list[i_pred])\n",
    "    title(f\"predicted: {directories[i_pred]}\")\n",
    "    #savefig(f'predictions_4layers//{directories[i]}')\n",
    "    plt.show()"
   ]
  },
  {
   "cell_type": "code",
   "execution_count": null,
   "id": "f74cc1aa-086c-42d0-9c50-14b9606cdc0b",
   "metadata": {
    "tags": []
   },
   "outputs": [],
   "source": [
    "for real,pred in zip(directories,directories_pred):\n",
    "    abra(real,pred)\n",
    "    "
   ]
  },
  {
   "cell_type": "code",
   "execution_count": null,
   "id": "1e35207e-60ee-4fbd-ba9d-16e7a93f4a9d",
   "metadata": {
    "tags": []
   },
   "outputs": [],
   "source": []
  },
  {
   "cell_type": "markdown",
   "id": "4cd51378-932d-4a47-af82-4ae718aaa7b1",
   "metadata": {
    "jp-MarkdownHeadingCollapsed": true,
    "tags": []
   },
   "source": [
    "# Whole range Correlation all with all"
   ]
  },
  {
   "cell_type": "code",
   "execution_count": null,
   "id": "71f569f3-b1d0-46e0-8718-d620bb34def3",
   "metadata": {},
   "outputs": [],
   "source": [
    "pdos_top_sum_df_train = pdos_top_sum_df.iloc[129:141]\n",
    "#pdos_top_sum_df_train['y'] = directories[129:141]\n",
    "#pdos_top_sum_df_train = pd.get_dummies(pdos_top_sum_df_train,columns=['y'])\n",
    "y_train = directories[129:141]\n",
    "y_train_oh = preprocessing.LabelEncoder().fit_transform(directories[129:141])"
   ]
  },
  {
   "cell_type": "code",
   "execution_count": null,
   "id": "632f21af-0473-4b4c-9ef8-7d3f3c4889c9",
   "metadata": {},
   "outputs": [],
   "source": [
    "pdos_top_sum_df_test = pd.concat((pdos_top_sum_df.iloc[141:],pdos_top_sum_df.iloc[:129]))\n",
    "y_test = directories[141:] + directories[:129]\n"
   ]
  },
  {
   "cell_type": "code",
   "execution_count": null,
   "id": "b6495962-f88a-402f-bee3-8b9a9a01f8a0",
   "metadata": {},
   "outputs": [],
   "source": []
  },
  {
   "cell_type": "code",
   "execution_count": null,
   "id": "2c6ca7c9-7613-438f-9ef5-244e08c69a11",
   "metadata": {},
   "outputs": [],
   "source": [
    "corr_mat = zeros([288,288])\n",
    "for i in range(288):\n",
    "    for j in range(i+1):\n",
    "        corr_mat[i,j] = correlate(pdos_top_sum_df.values[i],pdos_top_sum_df.values[j])"
   ]
  },
  {
   "cell_type": "code",
   "execution_count": null,
   "id": "e71e2e90-9031-4658-abd0-a43484ab5c6d",
   "metadata": {},
   "outputs": [],
   "source": []
  },
  {
   "cell_type": "code",
   "execution_count": null,
   "id": "04fd77cf-c1bc-42ba-a7ed-c2d9e991c0b9",
   "metadata": {},
   "outputs": [],
   "source": [
    "corr_mat = corr_mat + corr_mat.T - diag(diag(corr_mat))"
   ]
  },
  {
   "cell_type": "code",
   "execution_count": null,
   "id": "c723af4e-57b4-45bc-8212-1899e62bcd64",
   "metadata": {},
   "outputs": [],
   "source": []
  },
  {
   "cell_type": "code",
   "execution_count": null,
   "id": "accf411f-6781-42b0-9b29-44675f9fe00e",
   "metadata": {},
   "outputs": [],
   "source": [
    "best_fits_list = [argsort(line)[::-1][:3] for line in corr_mat] "
   ]
  },
  {
   "cell_type": "code",
   "execution_count": null,
   "id": "b774645a-3c74-438c-9f53-eec95d9c7145",
   "metadata": {},
   "outputs": [],
   "source": []
  },
  {
   "cell_type": "code",
   "execution_count": null,
   "id": "da591af4-d5c6-445e-a077-ed5b72c1bee1",
   "metadata": {},
   "outputs": [],
   "source": [
    "directories_pred = clf.predict(pdos_top_sum_df)"
   ]
  },
  {
   "cell_type": "code",
   "execution_count": null,
   "id": "49357ee8-f951-4222-8a1c-ca5cb276a255",
   "metadata": {},
   "outputs": [],
   "source": [
    "def abra(directory,i_pred):\n",
    "    i = directories.index(directory)\n",
    "    print(i)\n",
    "    print(directory)\n",
    "    fig = plt.figure(figsize=(9, 9),facecolor='white')\n",
    "    ax = fig.add_subplot(111)\n",
    "    plot(E,pdos_top_sum_list[i],label='Top-SUM')\n",
    "    plot(E,pdos_top_sum_list[i_pred[0]],label='Top-SUM_pred')\n",
    "    grid()\n",
    "    title(f'{directory}')\n",
    "    legend(loc='upper right')\n",
    "    xlabel('E [eV]')\n",
    "    ylim(-1e4,8e4)\n",
    "    insax = inset_axes(ax, \n",
    "                    width=\"20%\", # width = 30% of parent_bbox\n",
    "                    height=\"20%\", # height : 1 inch\n",
    "                    loc=\"lower left\")\n",
    "    _ = chain_maker(N_list[i],faultok_list[i])\n",
    "    title(f\"true:\")\n",
    "    insax = inset_axes(ax, \n",
    "                    width=\"20%\", # width = 30% of parent_bbox\n",
    "                    height=\"20%\", # height : 1 inch\n",
    "                    loc=\"lower right\")\n",
    "    _ = chain_maker(N_list[i_pred[0]],faultok_list[i_pred[0]])\n",
    "    title(f\"best predicted:\")\n",
    "    insax = inset_axes(ax, \n",
    "                    width=\"20%\", # width = 30% of parent_bbox\n",
    "                    height=\"20%\", # height : 1 inch\n",
    "                    loc=\"center right\")\n",
    "    _ = chain_maker(N_list[i_pred[1]],faultok_list[i_pred[1]])\n",
    "    title(f\"second predicted:\")\n",
    "    insax = inset_axes(ax, \n",
    "                    width=\"20%\", # width = 30% of parent_bbox\n",
    "                    height=\"20%\", # height : 1 inch\n",
    "                    loc=\"upper right\")\n",
    "    _ = chain_maker(N_list[i_pred[2]],faultok_list[i_pred[2]])\n",
    "    title(f\"third predicted:\")\n",
    "    #savefig(f'predictions_4layers//{directories[i]}')\n",
    "    plt.show()"
   ]
  },
  {
   "cell_type": "code",
   "execution_count": null,
   "id": "d04be4ea-7112-4f36-835a-4b845bd135b7",
   "metadata": {
    "tags": []
   },
   "outputs": [],
   "source": [
    "for real,pred in zip(directories,best_fits_list):\n",
    "    abra(real,pred)\n",
    "    "
   ]
  },
  {
   "cell_type": "code",
   "execution_count": null,
   "id": "1cca3bdb-2f4a-4c91-be47-77f7786eba37",
   "metadata": {},
   "outputs": [],
   "source": []
  },
  {
   "cell_type": "markdown",
   "id": "76263a88-3f6f-4584-8d31-de333f6733b7",
   "metadata": {
    "jp-MarkdownHeadingCollapsed": true,
    "tags": []
   },
   "source": [
    "# Whole range Correlation all with first 5"
   ]
  },
  {
   "cell_type": "code",
   "execution_count": null,
   "id": "c6757586-c291-4d85-bf60-c9725d23e70c",
   "metadata": {},
   "outputs": [],
   "source": [
    "pdos_top_sum_df_train = pdos_top_sum_df.iloc[129:141]\n",
    "#pdos_top_sum_df_train['y'] = directories[129:141]\n",
    "#pdos_top_sum_df_train = pd.get_dummies(pdos_top_sum_df_train,columns=['y'])\n",
    "y_train = directories[129:141]\n",
    "y_train_oh = preprocessing.LabelEncoder().fit_transform(directories[129:141])"
   ]
  },
  {
   "cell_type": "code",
   "execution_count": null,
   "id": "90e1ce47-a3ba-48f2-8263-49d4fa926179",
   "metadata": {},
   "outputs": [],
   "source": [
    "pdos_top_sum_df_test = pd.concat((pdos_top_sum_df.iloc[141:],pdos_top_sum_df.iloc[:129]))\n",
    "y_test = directories[141:] + directories[:129]\n"
   ]
  },
  {
   "cell_type": "code",
   "execution_count": null,
   "id": "c06a541c-a54d-43d4-8ae6-ff71c2922eed",
   "metadata": {},
   "outputs": [],
   "source": []
  },
  {
   "cell_type": "code",
   "execution_count": null,
   "id": "56904774-93bc-446f-acc1-dc76851736cf",
   "metadata": {},
   "outputs": [],
   "source": [
    "corr_mat = zeros([len(pdos_top_sum_df.values),len(pdos_top_sum_df_train.values)])\n",
    "for i,pdos_test in enumerate(pdos_top_sum_df.values):\n",
    "    for j,pdos_train in enumerate(pdos_top_sum_df_train.values):\n",
    "        corr_mat[i,j] = correlate(pdos_test,pdos_train)"
   ]
  },
  {
   "cell_type": "code",
   "execution_count": null,
   "id": "bfce7fe0-2fa5-4bd4-929d-e750b70c5c03",
   "metadata": {},
   "outputs": [],
   "source": [
    "best_fits_list = [argsort(line)[::-1][:3] for line in corr_mat] "
   ]
  },
  {
   "cell_type": "code",
   "execution_count": null,
   "id": "14bd3e7d-1cfd-4f91-a4dd-327f6589d039",
   "metadata": {
    "tags": []
   },
   "outputs": [],
   "source": []
  },
  {
   "cell_type": "code",
   "execution_count": null,
   "id": "bb9bb530-e60e-4540-903a-8f2b79c33621",
   "metadata": {},
   "outputs": [],
   "source": [
    "def abra(directory,i_pred):\n",
    "    i = directories.index(directory)\n",
    "    print(i)\n",
    "    print(directory)\n",
    "    fig = plt.figure(figsize=(9, 9),facecolor='white')\n",
    "    ax = fig.add_subplot(111)\n",
    "    plot(E,pdos_top_sum_list[i],label='Top-SUM')\n",
    "    plot(E,pdos_top_sum_list[129:141][i_pred[0]],label='Top-SUM_pred')\n",
    "    grid()\n",
    "    title(f'{directory}')\n",
    "    legend(loc='upper right')\n",
    "    xlabel('E [eV]')\n",
    "    ylim(-1e4,8e4)\n",
    "    insax = inset_axes(ax, \n",
    "                    width=\"20%\", # width = 30% of parent_bbox\n",
    "                    height=\"20%\", # height : 1 inch\n",
    "                    loc=\"lower left\")\n",
    "    _ = chain_maker(N_list[i],faultok_list[i])\n",
    "    title(f\"true:\")\n",
    "    insax = inset_axes(ax, \n",
    "                    width=\"20%\", # width = 30% of parent_bbox\n",
    "                    height=\"20%\", # height : 1 inch\n",
    "                    loc=\"lower right\")\n",
    "    _ = chain_maker(N_list[129:141][i_pred[0]],faultok_list[129:141][i_pred[0]])\n",
    "    title(f\"best predicted:\")\n",
    "    insax = inset_axes(ax, \n",
    "                    width=\"20%\", # width = 30% of parent_bbox\n",
    "                    height=\"20%\", # height : 1 inch\n",
    "                    loc=\"center right\")\n",
    "    _ = chain_maker(N_list[129:141][i_pred[1]],faultok_list[129:141][i_pred[1]])\n",
    "    title(f\"second predicted:\")\n",
    "    insax = inset_axes(ax, \n",
    "                    width=\"20%\", # width = 30% of parent_bbox\n",
    "                    height=\"20%\", # height : 1 inch\n",
    "                    loc=\"upper right\")\n",
    "    _ = chain_maker(N_list[129:141][i_pred[2]],faultok_list[129:141][i_pred[2]])\n",
    "    title(f\"third predicted:\")\n",
    "    #savefig(f'predictions_4layers//{directories[i]}')\n",
    "    plt.show()"
   ]
  },
  {
   "cell_type": "code",
   "execution_count": null,
   "id": "94d5de28-9658-43b1-bef3-e10fccc70d18",
   "metadata": {
    "tags": []
   },
   "outputs": [],
   "source": [
    "for real,pred in zip(directories,best_fits_list):\n",
    "    abra(real,pred)\n",
    "    "
   ]
  },
  {
   "cell_type": "code",
   "execution_count": null,
   "id": "35796c12-8d10-405c-8533-3e771c0b1bb4",
   "metadata": {
    "tags": []
   },
   "outputs": [],
   "source": []
  },
  {
   "cell_type": "markdown",
   "id": "a804b476-b2be-4d41-b240-824cb175c3cc",
   "metadata": {
    "jp-MarkdownHeadingCollapsed": true,
    "tags": []
   },
   "source": [
    "# Half range Tree model"
   ]
  },
  {
   "cell_type": "code",
   "execution_count": 14,
   "id": "aa4ca712-5f29-4f71-be5b-775bc83a810b",
   "metadata": {},
   "outputs": [],
   "source": [
    "pdos_top_sum_cut_list = [pdos_top_sum[len(pdos_top_sum)//4:3*len(pdos_top_sum)//4] for pdos_top_sum in pdos_top_sum_list]"
   ]
  },
  {
   "cell_type": "code",
   "execution_count": null,
   "id": "34ea68f3-5f07-4f56-99f0-7d535c20f68f",
   "metadata": {},
   "outputs": [],
   "source": [
    "pdos_top_sum_df = pd.DataFrame(data=pdos_top_sum_cut_list,columns=E[len(E)//4:3*len(E)//4])"
   ]
  },
  {
   "cell_type": "code",
   "execution_count": null,
   "id": "bb5b9c19-b59d-41b7-b74d-78d4fbbaf8cb",
   "metadata": {},
   "outputs": [],
   "source": [
    "pdos_top_sum_df_train = pdos_top_sum_df.iloc[129:141]\n",
    "#pdos_top_sum_df_train['y'] = directories[129:141]\n",
    "#pdos_top_sum_df_train = pd.get_dummies(pdos_top_sum_df_train,columns=['y'])\n",
    "y_train = directories[129:141]\n",
    "y_train_oh = preprocessing.LabelEncoder().fit_transform(directories[129:141])"
   ]
  },
  {
   "cell_type": "code",
   "execution_count": null,
   "id": "7e82b232-729b-4158-9bdf-d16ee0569a80",
   "metadata": {},
   "outputs": [],
   "source": [
    "pdos_top_sum_df_test = pd.concat((pdos_top_sum_df.iloc[141:],pdos_top_sum_df.iloc[:129]))\n",
    "y_test = directories[141:] + directories[:129]\n"
   ]
  },
  {
   "cell_type": "code",
   "execution_count": null,
   "id": "e748e8a3-d196-4e19-b977-bdacfcb2a5ba",
   "metadata": {},
   "outputs": [],
   "source": []
  },
  {
   "cell_type": "code",
   "execution_count": null,
   "id": "c4e635a9-a417-4cc9-9812-6154e66edbbf",
   "metadata": {},
   "outputs": [],
   "source": [
    "clf = DecisionTreeClassifier().fit(pdos_top_sum_df_train,y_train)"
   ]
  },
  {
   "cell_type": "code",
   "execution_count": null,
   "id": "fb255397-33e2-4124-805f-dd1d2295be34",
   "metadata": {},
   "outputs": [],
   "source": [
    "'''\n",
    "plt.figure(figsize = (30, 15))\n",
    "title(\"Minden\")\n",
    "plot_tree(clf, max_depth=20, filled=True, \n",
    "          feature_names=pdos_top_sum_df_train.columns, class_names=sorted(y_train),\n",
    "          fontsize = 8, proportion = True,);\n",
    "          '''"
   ]
  },
  {
   "cell_type": "code",
   "execution_count": null,
   "id": "a0ee0e6e-ed5f-429d-80ee-813bff3c844f",
   "metadata": {},
   "outputs": [],
   "source": [
    "directories_pred = clf.predict(pdos_top_sum_df)"
   ]
  },
  {
   "cell_type": "code",
   "execution_count": null,
   "id": "8ee16a3e-64fe-465d-88ba-60ce80091595",
   "metadata": {},
   "outputs": [],
   "source": [
    "def abra(directory,directory_pred):\n",
    "    i = directories.index(directory)\n",
    "    i_pred = directories.index(directory_pred)\n",
    "    print(i)\n",
    "    print(directory)\n",
    "    fig = plt.figure(figsize=(9, 9),facecolor='white')\n",
    "    ax = fig.add_subplot(111)\n",
    "    plot(E,pdos_top_sum_list[i],label='Top-SUM')\n",
    "    plot(E,pdos_top_sum_list[i_pred],label='Top-SUM_pred')\n",
    "    grid()\n",
    "    title(f'{directory}')\n",
    "    legend(loc='upper right')\n",
    "    xlabel('E [eV]')\n",
    "    ylim(-1e4,8e4)\n",
    "    insax = inset_axes(ax, \n",
    "                    width=\"20%\", # width = 30% of parent_bbox\n",
    "                    height=\"20%\", # height : 1 inch\n",
    "                    loc=\"lower left\")\n",
    "    _ = chain_maker(N_list[i],faultok_list[i])\n",
    "    title(f\"true: {directories[i]}\")\n",
    "    insax = inset_axes(ax, \n",
    "                    width=\"20%\", # width = 30% of parent_bbox\n",
    "                    height=\"20%\", # height : 1 inch\n",
    "                    loc=\"lower right\")\n",
    "    _ = chain_maker(N_list[i_pred],faultok_list[i_pred])\n",
    "    title(f\"predicted: {directories[i_pred]}\")\n",
    "    #savefig(f'predictions_4layers//{directories[i]}')\n",
    "    plt.show()"
   ]
  },
  {
   "cell_type": "code",
   "execution_count": null,
   "id": "40e9ffc2-0ee5-4302-abf5-6786111be7a9",
   "metadata": {
    "tags": []
   },
   "outputs": [],
   "source": [
    "for real,pred in zip(directories,directories_pred):\n",
    "    abra(real,pred)\n",
    "    "
   ]
  },
  {
   "cell_type": "code",
   "execution_count": null,
   "id": "a116f4e1-e571-4db3-ad9d-9f7761c4ba07",
   "metadata": {},
   "outputs": [],
   "source": []
  },
  {
   "cell_type": "markdown",
   "id": "9830d2f4-74c4-467b-9410-bac4e6e327b2",
   "metadata": {
    "jp-MarkdownHeadingCollapsed": true,
    "tags": []
   },
   "source": [
    "# Half range Correlation all with all"
   ]
  },
  {
   "cell_type": "code",
   "execution_count": null,
   "id": "48333fd0-6a3b-4047-abef-30fe92b831db",
   "metadata": {},
   "outputs": [],
   "source": [
    "pdos_top_sum_df = pd.DataFrame(data=pdos_top_sum_cut_list,columns=E[len(E)//4:3*len(E)//4])\n",
    "pdos_top_sum_df_train = pdos_top_sum_df.iloc[129:141]\n",
    "#pdos_top_sum_df_train['y'] = directories[129:141]\n",
    "#pdos_top_sum_df_train = pd.get_dummies(pdos_top_sum_df_train,columns=['y'])\n",
    "y_train = directories[129:141]\n",
    "y_train_oh = preprocessing.LabelEncoder().fit_transform(directories[129:141])"
   ]
  },
  {
   "cell_type": "code",
   "execution_count": null,
   "id": "791e7f1d-9bb4-4db5-89f4-0a7f2dd24f4c",
   "metadata": {},
   "outputs": [],
   "source": [
    "pdos_top_sum_df_test = pd.concat((pdos_top_sum_df.iloc[141:],pdos_top_sum_df.iloc[:129]))\n",
    "y_test = directories[141:] + directories[:129]\n"
   ]
  },
  {
   "cell_type": "code",
   "execution_count": null,
   "id": "7ff20eb4-abbb-4cdf-b675-0685ecc4be75",
   "metadata": {},
   "outputs": [],
   "source": []
  },
  {
   "cell_type": "code",
   "execution_count": null,
   "id": "405b5a4c-3a54-4e34-b32f-e0c78ccd9081",
   "metadata": {},
   "outputs": [],
   "source": [
    "corr_mat = zeros([288,288])\n",
    "for i in range(288):\n",
    "    for j in range(i+1):\n",
    "        corr_mat[i,j] = correlate(pdos_top_sum_df.values[i],pdos_top_sum_df.values[j])"
   ]
  },
  {
   "cell_type": "code",
   "execution_count": null,
   "id": "b48049bb-50dc-4edf-b466-054b882b2df9",
   "metadata": {},
   "outputs": [],
   "source": []
  },
  {
   "cell_type": "code",
   "execution_count": null,
   "id": "0252e09e-917e-4cbc-ada1-73731a5e2672",
   "metadata": {},
   "outputs": [],
   "source": [
    "corr_mat = corr_mat + corr_mat.T - diag(diag(corr_mat))"
   ]
  },
  {
   "cell_type": "code",
   "execution_count": null,
   "id": "84fc0305-4832-4b74-a26a-ec044889beec",
   "metadata": {},
   "outputs": [],
   "source": []
  },
  {
   "cell_type": "code",
   "execution_count": null,
   "id": "8166eb55-83c0-41ec-8f21-4d2f74aa220a",
   "metadata": {},
   "outputs": [],
   "source": [
    "best_fits_list = [argsort(line)[::-1][:3] for line in corr_mat] "
   ]
  },
  {
   "cell_type": "code",
   "execution_count": null,
   "id": "76f72640-e53c-4897-97f6-a9f50a420fc2",
   "metadata": {},
   "outputs": [],
   "source": []
  },
  {
   "cell_type": "code",
   "execution_count": null,
   "id": "058f371c-192f-4ec0-9742-e17681accf6d",
   "metadata": {},
   "outputs": [],
   "source": [
    "def abra(directory,i_pred):\n",
    "    i = directories.index(directory)\n",
    "    print(i)\n",
    "    print(directory)\n",
    "    fig = plt.figure(figsize=(9, 9),facecolor='white')\n",
    "    ax = fig.add_subplot(111)\n",
    "    plot(E,pdos_top_sum_list[i],label='Top-SUM')\n",
    "    plot(E,pdos_top_sum_list[i_pred[0]],label='Top-SUM_pred')\n",
    "    grid()\n",
    "    title(f'{directory}')\n",
    "    legend(loc='upper right')\n",
    "    xlabel('E [eV]')\n",
    "    ylim(-1e4,8e4)\n",
    "    insax = inset_axes(ax, \n",
    "                    width=\"20%\", # width = 30% of parent_bbox\n",
    "                    height=\"20%\", # height : 1 inch\n",
    "                    loc=\"lower left\")\n",
    "    _ = chain_maker(N_list[i],faultok_list[i])\n",
    "    title(f\"true:\")\n",
    "    insax = inset_axes(ax, \n",
    "                    width=\"20%\", # width = 30% of parent_bbox\n",
    "                    height=\"20%\", # height : 1 inch\n",
    "                    loc=\"lower right\")\n",
    "    _ = chain_maker(N_list[i_pred[0]],faultok_list[i_pred[0]])\n",
    "    title(f\"best predicted:\")\n",
    "    insax = inset_axes(ax, \n",
    "                    width=\"20%\", # width = 30% of parent_bbox\n",
    "                    height=\"20%\", # height : 1 inch\n",
    "                    loc=\"center right\")\n",
    "    _ = chain_maker(N_list[i_pred[1]],faultok_list[i_pred[1]])\n",
    "    title(f\"second predicted:\")\n",
    "    insax = inset_axes(ax, \n",
    "                    width=\"20%\", # width = 30% of parent_bbox\n",
    "                    height=\"20%\", # height : 1 inch\n",
    "                    loc=\"upper right\")\n",
    "    _ = chain_maker(N_list[i_pred[2]],faultok_list[i_pred[2]])\n",
    "    title(f\"third predicted:\")\n",
    "    #savefig(f'predictions_4layers//{directories[i]}')\n",
    "    plt.show()"
   ]
  },
  {
   "cell_type": "code",
   "execution_count": null,
   "id": "41c505e6-658c-4b3c-b25f-1673781d7fce",
   "metadata": {
    "tags": []
   },
   "outputs": [],
   "source": [
    "for real,pred in zip(directories,best_fits_list):\n",
    "    abra(real,pred)\n",
    "    "
   ]
  },
  {
   "cell_type": "code",
   "execution_count": null,
   "id": "3fc4246e-250a-4eb2-a5ae-ccf0bc0a6f8b",
   "metadata": {},
   "outputs": [],
   "source": []
  },
  {
   "cell_type": "markdown",
   "id": "9b8525ad-baec-4e87-9b9b-c8bc50acccfb",
   "metadata": {
    "tags": []
   },
   "source": [
    "# Half range Correlation all with first 9"
   ]
  },
  {
   "cell_type": "code",
   "execution_count": 15,
   "id": "e8098887-db8e-44ef-99f1-d83c5fc6de5e",
   "metadata": {},
   "outputs": [],
   "source": [
    "pdos_top_sum_df = pd.DataFrame(data=pdos_top_sum_cut_list,columns=E[len(E)//4:3*len(E)//4])\n",
    "pdos_top_sum_df_train = pdos_top_sum_df.iloc[129:]\n",
    "#pdos_top_sum_df_train['y'] = directories[129:141]\n",
    "#pdos_top_sum_df_train = pd.get_dummies(pdos_top_sum_df_train,columns=['y'])\n",
    "y_train = directories[129:]\n",
    "y_train_oh = preprocessing.LabelEncoder().fit_transform(directories[129:])"
   ]
  },
  {
   "cell_type": "code",
   "execution_count": 16,
   "id": "7fb40afa-a815-4ab3-9a5c-0ad0664f6da6",
   "metadata": {},
   "outputs": [],
   "source": [
    "pdos_top_sum_df_test = pd.concat((pdos_top_sum_df.iloc[141:],pdos_top_sum_df.iloc[:129]))\n",
    "y_test = directories[141:] + directories[:129]\n"
   ]
  },
  {
   "cell_type": "code",
   "execution_count": null,
   "id": "96516023-8250-4b4d-b18b-36429e8e045b",
   "metadata": {},
   "outputs": [],
   "source": []
  },
  {
   "cell_type": "code",
   "execution_count": 17,
   "id": "c73866bf-380d-4bd7-80cf-49cad50c806c",
   "metadata": {},
   "outputs": [],
   "source": [
    "corr_mat = zeros([len(pdos_top_sum_df.values),len(pdos_top_sum_df_train.values)])\n",
    "for i,pdos_test in enumerate(pdos_top_sum_df.values):\n",
    "    for j,pdos_train in enumerate(pdos_top_sum_df_train.values):\n",
    "        corr_mat[i,j] = correlate(pdos_test,pdos_train)"
   ]
  },
  {
   "cell_type": "code",
   "execution_count": 18,
   "id": "774ed115-c805-474c-bb2b-f16bcb5cff8e",
   "metadata": {},
   "outputs": [],
   "source": [
    "best_fits_list = [argsort(line)[::-1][:3] for line in corr_mat] "
   ]
  },
  {
   "cell_type": "code",
   "execution_count": null,
   "id": "7c361cc5-c2e1-4186-8afe-bd72ead5d9a9",
   "metadata": {
    "tags": []
   },
   "outputs": [],
   "source": []
  },
  {
   "cell_type": "code",
   "execution_count": 30,
   "id": "4d5ed90e-fa82-4e37-8c17-25b49f9db217",
   "metadata": {},
   "outputs": [],
   "source": [
    "def abra(directory,i_pred,save=False):\n",
    "    i = directories.index(directory)\n",
    "    print(i)\n",
    "    print(directory)\n",
    "    fig = plt.figure(figsize=(9, 9),facecolor='white')\n",
    "    ax = fig.add_subplot(111)\n",
    "    plot(E,pdos_top_sum_list[i],label='Top SUM',lw=2)\n",
    "    plot(E,pdos_top_sum_list[129:][i_pred[0]],label='Top SUM prediction',lw=2)\n",
    "    #grid()\n",
    "    legend(loc='upper right',fontsize=16)\n",
    "    xlabel('E [eV]',fontsize=16)\n",
    "    ylim(-1e4,8e4)\n",
    "    xlim(-0.5,0.5)\n",
    "    yticks([],[])\n",
    "    ylabel('PDOS [a.u.]',fontsize=16)\n",
    "    insax = inset_axes(ax, \n",
    "                    width=\"20%\", # width = 30% of parent_bbox\n",
    "                    height=\"20%\", # height : 1 inch\n",
    "                    loc=\"lower left\")\n",
    "    _ = chain_maker(N_list[i],faultok_list[i])\n",
    "    title(f\"True:\",fontsize=16)\n",
    "    insax = inset_axes(ax, \n",
    "                    width=\"20%\", # width = 30% of parent_bbox\n",
    "                    height=\"20%\", # height : 1 inch\n",
    "                    loc=\"lower right\")\n",
    "    _ = chain_maker(N_list[129:][i_pred[0]],faultok_list[129:][i_pred[0]])\n",
    "    title(f\"Predicted:\",fontsize=16)\n",
    "    if save:\n",
    "        savefig(f'{directories[i]}_prediction.pdf', bbox_inches='tight')\n",
    "    plt.show()"
   ]
  },
  {
   "cell_type": "code",
   "execution_count": 34,
   "id": "e55cbfd3-6625-4d0d-9bfb-79a38ab260c4",
   "metadata": {},
   "outputs": [
    {
     "name": "stdout",
     "output_type": "stream",
     "text": [
      "0\n",
      "10_faults_conv_720_['1b', '2b', '3b', '4b']\n"
     ]
    },
    {
     "data": {
      "image/png": "[encoded data removed]",
      "text/plain": [
       "<Figure size 900x900 with 3 Axes>"
      ]
     },
     "metadata": {},
     "output_type": "display_data"
    }
   ],
   "source": [
    "abra(directories[0],best_fits_list[0],True)"
   ]
  },
  {
   "cell_type": "code",
   "execution_count": null,
   "id": "8201a044-4502-4611-91ba-e739a303051f",
   "metadata": {
    "tags": []
   },
   "outputs": [],
   "source": [
    "for real,pred in zip(directories,best_fits_list):\n",
    "    abra(real,pred)\n",
    "    "
   ]
  },
  {
   "cell_type": "markdown",
   "id": "01229d8a-88de-4473-b50d-268a06b5697d",
   "metadata": {
    "jp-MarkdownHeadingCollapsed": true,
    "tags": []
   },
   "source": [
    "# Layer dependance Tree model"
   ]
  },
  {
   "cell_type": "code",
   "execution_count": null,
   "id": "c4caa385-d76c-4541-a2c8-5d5e2a292217",
   "metadata": {},
   "outputs": [],
   "source": [
    "pdos_top_sum_cut_list = [pdos_top_sum[len(pdos_top_sum)//4:3*len(pdos_top_sum)//4] for pdos_top_sum in pdos_top_sum_list]"
   ]
  },
  {
   "cell_type": "code",
   "execution_count": null,
   "id": "04ab7603-94c2-49ce-ac93-90b380af17af",
   "metadata": {},
   "outputs": [],
   "source": [
    "pdos_top_sum_df = pd.DataFrame(data=pdos_top_sum_cut_list,columns=E[len(E)//4:3*len(E)//4])"
   ]
  },
  {
   "cell_type": "code",
   "execution_count": null,
   "id": "90b59638-c202-46d3-a556-35565fa9680d",
   "metadata": {},
   "outputs": [],
   "source": [
    "directories[129:141]"
   ]
  },
  {
   "cell_type": "code",
   "execution_count": null,
   "id": "35a2cdf6-4d0b-4dd5-8746-62b423889603",
   "metadata": {},
   "outputs": [],
   "source": []
  },
  {
   "cell_type": "code",
   "execution_count": null,
   "id": "5c9ffbd5-ac41-4f05-b718-b433b1ec22d3",
   "metadata": {},
   "outputs": [],
   "source": [
    "directories_pred_dict = {}\n",
    "for i,name in zip([132,135,141,150,172,206,288],['3','4','5','6','7','8','9']):\n",
    "    pdos_top_sum_df_train = pdos_top_sum_df.iloc[129:i]\n",
    "    y_train = directories[129:i]\n",
    "\n",
    "    clf = DecisionTreeClassifier().fit(pdos_top_sum_df_train,y_train)\n",
    "    directories_pred = clf.predict(pdos_top_sum_df.iloc[:129])\n",
    "    directories_pred_dict[name] = directories_pred"
   ]
  },
  {
   "cell_type": "code",
   "execution_count": null,
   "id": "9d9c2f38-fc0e-43f9-8fa0-05aa5d457a47",
   "metadata": {},
   "outputs": [],
   "source": [
    "len(directories_pred_dict['5'])"
   ]
  },
  {
   "cell_type": "code",
   "execution_count": null,
   "id": "bc9b9f46-6b90-4b0c-98d8-65d3d4c6ae22",
   "metadata": {},
   "outputs": [],
   "source": [
    "pred_layer_dict = {}\n",
    "for key in directories_pred_dict.keys():\n",
    "    pred_layer_dict[key] = [int(directories_pred_dict[key][i].split('_')[0]) for i in range(len(directories_pred_dict[key]))]"
   ]
  },
  {
   "cell_type": "code",
   "execution_count": null,
   "id": "1c06f739-5f7e-487b-84b7-1577de4f4c5c",
   "metadata": {},
   "outputs": [],
   "source": [
    "import plotly.figure_factory as ff\n"
   ]
  },
  {
   "cell_type": "code",
   "execution_count": null,
   "id": "314535a5-8a36-45e8-acb3-7ff66ccd5598",
   "metadata": {
    "tags": []
   },
   "outputs": [],
   "source": [
    "pred_layer_all = array(list(pred_layer_dict.values())).flatten()"
   ]
  },
  {
   "cell_type": "code",
   "execution_count": null,
   "id": "36867b14-e78d-45d5-9c5f-58bd7a27ff94",
   "metadata": {
    "tags": []
   },
   "outputs": [],
   "source": [
    "pred_layer_all"
   ]
  },
  {
   "cell_type": "code",
   "execution_count": null,
   "id": "f5c5c4ad-1739-4a36-ad20-65586f0fb8be",
   "metadata": {},
   "outputs": [],
   "source": [
    "fig = ff.create_distplot(list(pred_layer_dict.values())+[pred_layer_all.tolist()], group_labels=list(pred_layer_dict.keys())+['all'],bin_size=0.5)\n",
    "\n",
    "fig.show()\n"
   ]
  },
  {
   "cell_type": "code",
   "execution_count": null,
   "id": "40033773-5b02-4e3d-b3a0-8c1443cb95f2",
   "metadata": {},
   "outputs": [],
   "source": []
  },
  {
   "cell_type": "markdown",
   "id": "8d2cc830-2192-4ee6-94b8-6ed94b26b305",
   "metadata": {
    "jp-MarkdownHeadingCollapsed": true,
    "tags": []
   },
   "source": [
    "# 9 layers tree model"
   ]
  },
  {
   "cell_type": "code",
   "execution_count": null,
   "id": "c302154f-f031-42b9-8bde-87c7d268f89f",
   "metadata": {
    "tags": []
   },
   "outputs": [],
   "source": [
    "pdos_top_sum_cut_list = [pdos_top_sum[len(pdos_top_sum)//4:3*len(pdos_top_sum)//4] for pdos_top_sum in pdos_top_sum_list]"
   ]
  },
  {
   "cell_type": "code",
   "execution_count": null,
   "id": "8515be9a-7072-40c1-b6ef-9b982e61334b",
   "metadata": {},
   "outputs": [],
   "source": [
    "pdos_top_sum_df = pd.DataFrame(data=pdos_top_sum_cut_list,columns=E[len(E)//4:3*len(E)//4])"
   ]
  },
  {
   "cell_type": "code",
   "execution_count": null,
   "id": "2c994027-5fe2-4c5d-aa08-0160d5897931",
   "metadata": {},
   "outputs": [],
   "source": [
    "pdos_top_sum_df_train = pdos_top_sum_df.iloc[136:]\n",
    "#pdos_top_sum_df_train['y'] = directories[129:141]\n",
    "#pdos_top_sum_df_train = pd.get_dummies(pdos_top_sum_df_train,columns=['y'])\n",
    "y_train = directories[136:]"
   ]
  },
  {
   "cell_type": "markdown",
   "id": "1230ffe8-55e8-495c-8bb6-46cea7bb0c3e",
   "metadata": {},
   "source": [
    "### directories[136:]"
   ]
  },
  {
   "cell_type": "code",
   "execution_count": null,
   "id": "036b8a3e-f820-4fb9-a8c9-09a22c9ef63b",
   "metadata": {},
   "outputs": [],
   "source": [
    "clf = DecisionTreeClassifier(random_state=42).fit(pdos_top_sum_df_train,y_train)"
   ]
  },
  {
   "cell_type": "code",
   "execution_count": null,
   "id": "282f84f1-3a28-42ca-8797-a09cc5b55f77",
   "metadata": {},
   "outputs": [],
   "source": [
    "'''\n",
    "plt.figure(figsize = (30, 15))\n",
    "title(\"Minden\")\n",
    "plot_tree(clf, max_depth=20, filled=True, \n",
    "          feature_names=pdos_top_sum_df_train.columns, class_names=sorted(y_train),\n",
    "          fontsize = 8, proportion = True,);\n",
    "          '''"
   ]
  },
  {
   "cell_type": "code",
   "execution_count": null,
   "id": "bfca03c9-b2e6-4182-8bff-87fb352b5051",
   "metadata": {},
   "outputs": [],
   "source": [
    "directories_pred = clf.predict(pdos_top_sum_df)"
   ]
  },
  {
   "cell_type": "code",
   "execution_count": null,
   "id": "c487e752-b68a-45cb-8cb0-b94878e8eb80",
   "metadata": {},
   "outputs": [],
   "source": []
  },
  {
   "cell_type": "code",
   "execution_count": null,
   "id": "39fb6010-4eb0-49b0-965a-6af6cb01a26d",
   "metadata": {},
   "outputs": [],
   "source": [
    "def abra(directory,directory_pred):\n",
    "    i = directories.index(directory)\n",
    "    i_pred = directories.index(directory_pred)\n",
    "    print(i)\n",
    "    print(directory)\n",
    "    fig = plt.figure(figsize=(9, 9),facecolor='white')\n",
    "    ax = fig.add_subplot(111)\n",
    "    plot(E,pdos_top_sum_list[i],label='Top-SUM')\n",
    "    plot(E,pdos_top_sum_list[i_pred],label='Top-SUM_pred')\n",
    "    grid()\n",
    "    title(f'{directory}')\n",
    "    legend(loc='upper right')\n",
    "    xlabel('E [eV]')\n",
    "    ylim(-1e4,8e4)\n",
    "    insax = inset_axes(ax, \n",
    "                    width=\"20%\", # width = 30% of parent_bbox\n",
    "                    height=\"20%\", # height : 1 inch\n",
    "                    loc=\"lower left\")\n",
    "    _ = chain_maker(N_list[i],faultok_list[i])\n",
    "    title(f\"true: {directories[i]}\")\n",
    "    insax = inset_axes(ax, \n",
    "                    width=\"20%\", # width = 30% of parent_bbox\n",
    "                    height=\"20%\", # height : 1 inch\n",
    "                    loc=\"lower right\")\n",
    "    _ = chain_maker(N_list[i_pred],faultok_list[i_pred])\n",
    "    title(f\"predicted: {directories[i_pred]}\")\n",
    "    #savefig(f'predictions_4layers//{directories[i]}')\n",
    "    plt.show()"
   ]
  },
  {
   "cell_type": "code",
   "execution_count": null,
   "id": "c6643f8b-b3b6-4e2e-b1ce-681e6d79ae9c",
   "metadata": {
    "tags": []
   },
   "outputs": [],
   "source": [
    "for real,pred in zip(directories,directories_pred):\n",
    "    abra(real,pred)\n",
    "    "
   ]
  },
  {
   "cell_type": "code",
   "execution_count": null,
   "id": "c509e291-dc57-40c9-be8b-c2e26b5a2b19",
   "metadata": {},
   "outputs": [],
   "source": [
    "'''\n",
    "labels_by_hand = []\n",
    "for real,pred in zip(directories,directories_pred):\n",
    "    abra(real,pred)\n",
    "    \n",
    "    print(f'fosfasz')\n",
    "    \n",
    "\n",
    "    a = input()\n",
    "    labels_by_hand.append(a)\n",
    "    clear_output()\n",
    "'''"
   ]
  },
  {
   "cell_type": "code",
   "execution_count": null,
   "id": "731cb6e8-efb0-40c0-af1f-48cacfc4d12b",
   "metadata": {},
   "outputs": [],
   "source": [
    "#matching_layers = labels_by_hand[:-3]"
   ]
  },
  {
   "cell_type": "code",
   "execution_count": null,
   "id": "0e6075d9-0e4e-4d91-9ea1-426238f505b3",
   "metadata": {},
   "outputs": [],
   "source": [
    "matching_layers = load('matchin_layers.npy')"
   ]
  },
  {
   "cell_type": "code",
   "execution_count": null,
   "id": "30c454f4-0a87-4926-aa04-9d8eb0035b11",
   "metadata": {},
   "outputs": [],
   "source": [
    "matching_layers = array(matching_layers,dtype=int)"
   ]
  },
  {
   "cell_type": "code",
   "execution_count": null,
   "id": "ba4934ff-9f9e-4202-8da6-6146852b9a05",
   "metadata": {},
   "outputs": [],
   "source": [
    "save('matchin_layers',matching_layers)"
   ]
  },
  {
   "cell_type": "code",
   "execution_count": null,
   "id": "180c07e4-4bf2-4b98-89af-5a881675469a",
   "metadata": {},
   "outputs": [],
   "source": [
    "x, h = unique(matching_layers,return_counts=True)"
   ]
  },
  {
   "cell_type": "code",
   "execution_count": null,
   "id": "10506a47-7435-4e11-849c-60e8fd1cdec2",
   "metadata": {},
   "outputs": [],
   "source": [
    "bar(x,h)"
   ]
  },
  {
   "cell_type": "markdown",
   "id": "7bf7443c-c668-482d-b81c-98262d31e841",
   "metadata": {},
   "source": [
    "# 9 layers tree model top and bot"
   ]
  },
  {
   "cell_type": "code",
   "execution_count": 35,
   "id": "96550e8b-a787-4626-ae91-7f3691435e3a",
   "metadata": {
    "tags": []
   },
   "outputs": [],
   "source": [
    "pdos_top_sum_cut_list = [pdos_top_sum[len(pdos_top_sum)//4:3*len(pdos_top_sum)//4] for pdos_top_sum in pdos_top_sum_list]\n",
    "pdos_bot_sum_cut_list = [pdos_bot_sum[len(pdos_bot_sum)//4:3*len(pdos_bot_sum)//4] for pdos_bot_sum in pdos_bot_sum_list]"
   ]
  },
  {
   "cell_type": "code",
   "execution_count": 36,
   "id": "7ef31321-cadc-4d9a-aea3-899762cf9d68",
   "metadata": {},
   "outputs": [
    {
     "data": {
      "text/plain": [
       "array([[33659.45670197, 33558.57439314, 33450.10768163, ...,\n",
       "        36302.58937291, 36473.35656848, 36642.05865568],\n",
       "       [33686.9776822 , 33566.62999757, 33436.91206217, ...,\n",
       "        36373.78148873, 36531.1073559 , 36678.97415851],\n",
       "       [33582.14426154, 33482.62857936, 33356.98407267, ...,\n",
       "        36498.30363196, 36634.46367163, 36746.98285362],\n",
       "       ...,\n",
       "       [33231.98992654, 33075.86727809, 32931.17489285, ...,\n",
       "        36182.36645805, 36300.98453502, 36433.21816299],\n",
       "       [33589.57127   , 33415.02345252, 33229.8369945 , ...,\n",
       "        36357.07398773, 36451.44238454, 36545.94164226],\n",
       "       [33600.90711315, 33426.80328115, 33265.03070842, ...,\n",
       "        36279.48250716, 36478.71279847, 36672.86724776]])"
      ]
     },
     "execution_count": 36,
     "metadata": {},
     "output_type": "execute_result"
    }
   ],
   "source": [
    "vstack((pdos_top_sum_cut_list,pdos_bot_sum_cut_list))"
   ]
  },
  {
   "cell_type": "code",
   "execution_count": 37,
   "id": "14e44cbe-d666-4641-a926-77d592ffb54e",
   "metadata": {},
   "outputs": [],
   "source": [
    "pdos_top_sum_df = pd.DataFrame(data=pdos_top_sum_cut_list,columns=E[len(E)//4:3*len(E)//4])\n",
    "pdos_bot_sum_df = pd.DataFrame(data=pdos_bot_sum_cut_list,columns=E[len(E)//4:3*len(E)//4])"
   ]
  },
  {
   "cell_type": "code",
   "execution_count": null,
   "id": "e38ee9fd-31c6-43df-ab5d-f113d9ed4df6",
   "metadata": {},
   "outputs": [],
   "source": []
  },
  {
   "cell_type": "code",
   "execution_count": 38,
   "id": "9c335a17-5e88-415f-ab6d-52bf429e8c3c",
   "metadata": {},
   "outputs": [
    {
     "data": {
      "text/html": [
       "<div>\n",
       "<style scoped>\n",
       "    .dataframe tbody tr th:only-of-type {\n",
       "        vertical-align: middle;\n",
       "    }\n",
       "\n",
       "    .dataframe tbody tr th {\n",
       "        vertical-align: top;\n",
       "    }\n",
       "\n",
       "    .dataframe thead th {\n",
       "        text-align: right;\n",
       "    }\n",
       "</style>\n",
       "<table border=\"1\" class=\"dataframe\">\n",
       "  <thead>\n",
       "    <tr style=\"text-align: right;\">\n",
       "      <th></th>\n",
       "      <th>-0.500</th>\n",
       "      <th>-0.498</th>\n",
       "      <th>-0.496</th>\n",
       "      <th>-0.494</th>\n",
       "      <th>-0.492</th>\n",
       "      <th>-0.490</th>\n",
       "      <th>-0.488</th>\n",
       "      <th>-0.486</th>\n",
       "      <th>-0.484</th>\n",
       "      <th>-0.482</th>\n",
       "      <th>...</th>\n",
       "      <th>0.480</th>\n",
       "      <th>0.482</th>\n",
       "      <th>0.484</th>\n",
       "      <th>0.486</th>\n",
       "      <th>0.488</th>\n",
       "      <th>0.490</th>\n",
       "      <th>0.492</th>\n",
       "      <th>0.494</th>\n",
       "      <th>0.496</th>\n",
       "      <th>0.498</th>\n",
       "    </tr>\n",
       "  </thead>\n",
       "  <tbody>\n",
       "    <tr>\n",
       "      <th>0</th>\n",
       "      <td>33845.075863</td>\n",
       "      <td>33653.018424</td>\n",
       "      <td>33464.794634</td>\n",
       "      <td>33289.828893</td>\n",
       "      <td>33136.726675</td>\n",
       "      <td>33011.741246</td>\n",
       "      <td>32917.395087</td>\n",
       "      <td>32851.630895</td>\n",
       "      <td>32807.794046</td>\n",
       "      <td>32775.565755</td>\n",
       "      <td>...</td>\n",
       "      <td>34874.278057</td>\n",
       "      <td>34871.190147</td>\n",
       "      <td>34897.518041</td>\n",
       "      <td>34963.503540</td>\n",
       "      <td>35075.375463</td>\n",
       "      <td>35234.931467</td>\n",
       "      <td>35439.693638</td>\n",
       "      <td>35683.496973</td>\n",
       "      <td>35957.313483</td>\n",
       "      <td>36250.134298</td>\n",
       "    </tr>\n",
       "    <tr>\n",
       "      <th>1</th>\n",
       "      <td>30097.531266</td>\n",
       "      <td>30014.026978</td>\n",
       "      <td>29932.544929</td>\n",
       "      <td>29854.538913</td>\n",
       "      <td>29781.865662</td>\n",
       "      <td>29716.020933</td>\n",
       "      <td>29657.280130</td>\n",
       "      <td>29603.950731</td>\n",
       "      <td>29551.964183</td>\n",
       "      <td>29495.003178</td>\n",
       "      <td>...</td>\n",
       "      <td>34996.575959</td>\n",
       "      <td>35163.484581</td>\n",
       "      <td>35349.749630</td>\n",
       "      <td>35551.011715</td>\n",
       "      <td>35761.337647</td>\n",
       "      <td>35973.931512</td>\n",
       "      <td>36181.921543</td>\n",
       "      <td>36379.075636</td>\n",
       "      <td>36560.337303</td>\n",
       "      <td>36722.147023</td>\n",
       "    </tr>\n",
       "    <tr>\n",
       "      <th>2</th>\n",
       "      <td>33543.558530</td>\n",
       "      <td>33366.171365</td>\n",
       "      <td>33195.089964</td>\n",
       "      <td>33035.869937</td>\n",
       "      <td>32892.509867</td>\n",
       "      <td>32766.905519</td>\n",
       "      <td>32658.479796</td>\n",
       "      <td>32564.057332</td>\n",
       "      <td>32478.073054</td>\n",
       "      <td>32393.184993</td>\n",
       "      <td>...</td>\n",
       "      <td>34860.724878</td>\n",
       "      <td>35007.596124</td>\n",
       "      <td>35198.937240</td>\n",
       "      <td>35429.272915</td>\n",
       "      <td>35688.715347</td>\n",
       "      <td>35964.198690</td>\n",
       "      <td>36241.067690</td>\n",
       "      <td>36504.743851</td>\n",
       "      <td>36742.221125</td>\n",
       "      <td>36943.240419</td>\n",
       "    </tr>\n",
       "    <tr>\n",
       "      <th>3</th>\n",
       "      <td>34331.552439</td>\n",
       "      <td>34187.955443</td>\n",
       "      <td>34082.706449</td>\n",
       "      <td>34016.317786</td>\n",
       "      <td>33984.290833</td>\n",
       "      <td>33977.993820</td>\n",
       "      <td>33986.236594</td>\n",
       "      <td>33997.218458</td>\n",
       "      <td>34000.446088</td>\n",
       "      <td>33988.244270</td>\n",
       "      <td>...</td>\n",
       "      <td>34993.196127</td>\n",
       "      <td>35166.062566</td>\n",
       "      <td>35363.136643</td>\n",
       "      <td>35578.963093</td>\n",
       "      <td>35806.251076</td>\n",
       "      <td>36036.564576</td>\n",
       "      <td>36261.053895</td>\n",
       "      <td>36471.215269</td>\n",
       "      <td>36659.684482</td>\n",
       "      <td>36821.047391</td>\n",
       "    </tr>\n",
       "    <tr>\n",
       "      <th>4</th>\n",
       "      <td>31935.151036</td>\n",
       "      <td>31858.200209</td>\n",
       "      <td>31782.400371</td>\n",
       "      <td>31702.086232</td>\n",
       "      <td>31613.018330</td>\n",
       "      <td>31512.935404</td>\n",
       "      <td>31401.526991</td>\n",
       "      <td>31279.903400</td>\n",
       "      <td>31149.819545</td>\n",
       "      <td>31012.980474</td>\n",
       "      <td>...</td>\n",
       "      <td>35159.922853</td>\n",
       "      <td>35258.440304</td>\n",
       "      <td>35374.725663</td>\n",
       "      <td>35509.998765</td>\n",
       "      <td>35663.622287</td>\n",
       "      <td>35833.158897</td>\n",
       "      <td>36014.661745</td>\n",
       "      <td>36203.186714</td>\n",
       "      <td>36393.456128</td>\n",
       "      <td>36580.544439</td>\n",
       "    </tr>\n",
       "    <tr>\n",
       "      <th>...</th>\n",
       "      <td>...</td>\n",
       "      <td>...</td>\n",
       "      <td>...</td>\n",
       "      <td>...</td>\n",
       "      <td>...</td>\n",
       "      <td>...</td>\n",
       "      <td>...</td>\n",
       "      <td>...</td>\n",
       "      <td>...</td>\n",
       "      <td>...</td>\n",
       "      <td>...</td>\n",
       "      <td>...</td>\n",
       "      <td>...</td>\n",
       "      <td>...</td>\n",
       "      <td>...</td>\n",
       "      <td>...</td>\n",
       "      <td>...</td>\n",
       "      <td>...</td>\n",
       "      <td>...</td>\n",
       "      <td>...</td>\n",
       "      <td>...</td>\n",
       "    </tr>\n",
       "    <tr>\n",
       "      <th>325</th>\n",
       "      <td>34209.576817</td>\n",
       "      <td>34060.859194</td>\n",
       "      <td>33924.395604</td>\n",
       "      <td>33802.208409</td>\n",
       "      <td>33693.897070</td>\n",
       "      <td>33596.787033</td>\n",
       "      <td>33506.374972</td>\n",
       "      <td>33417.027257</td>\n",
       "      <td>33322.847235</td>\n",
       "      <td>33218.586667</td>\n",
       "      <td>...</td>\n",
       "      <td>35313.121326</td>\n",
       "      <td>35425.285769</td>\n",
       "      <td>35536.322956</td>\n",
       "      <td>35650.436309</td>\n",
       "      <td>35771.274490</td>\n",
       "      <td>35901.352767</td>\n",
       "      <td>36041.699980</td>\n",
       "      <td>36191.794526</td>\n",
       "      <td>36349.776135</td>\n",
       "      <td>36512.853345</td>\n",
       "    </tr>\n",
       "    <tr>\n",
       "      <th>326</th>\n",
       "      <td>34091.880314</td>\n",
       "      <td>33953.676909</td>\n",
       "      <td>33840.623491</td>\n",
       "      <td>33753.551542</td>\n",
       "      <td>33689.704191</td>\n",
       "      <td>33642.930699</td>\n",
       "      <td>33604.294153</td>\n",
       "      <td>33563.093617</td>\n",
       "      <td>33508.253278</td>\n",
       "      <td>33429.951037</td>\n",
       "      <td>...</td>\n",
       "      <td>35348.598463</td>\n",
       "      <td>35490.782161</td>\n",
       "      <td>35623.165523</td>\n",
       "      <td>35749.498898</td>\n",
       "      <td>35873.921110</td>\n",
       "      <td>36000.184878</td>\n",
       "      <td>36131.004625</td>\n",
       "      <td>36267.627695</td>\n",
       "      <td>36409.702604</td>\n",
       "      <td>36555.472967</td>\n",
       "    </tr>\n",
       "    <tr>\n",
       "      <th>327</th>\n",
       "      <td>33231.989927</td>\n",
       "      <td>33075.867278</td>\n",
       "      <td>32931.174893</td>\n",
       "      <td>32795.042527</td>\n",
       "      <td>32663.469891</td>\n",
       "      <td>32531.936579</td>\n",
       "      <td>32396.072717</td>\n",
       "      <td>32252.277996</td>\n",
       "      <td>32098.185428</td>\n",
       "      <td>31932.902002</td>\n",
       "      <td>...</td>\n",
       "      <td>35397.534828</td>\n",
       "      <td>35532.278225</td>\n",
       "      <td>35655.230255</td>\n",
       "      <td>35767.513741</td>\n",
       "      <td>35871.897608</td>\n",
       "      <td>35972.519804</td>\n",
       "      <td>36074.331232</td>\n",
       "      <td>36182.366458</td>\n",
       "      <td>36300.984535</td>\n",
       "      <td>36433.218163</td>\n",
       "    </tr>\n",
       "    <tr>\n",
       "      <th>328</th>\n",
       "      <td>33589.571270</td>\n",
       "      <td>33415.023453</td>\n",
       "      <td>33229.836995</td>\n",
       "      <td>33039.097937</td>\n",
       "      <td>32848.273161</td>\n",
       "      <td>32662.816447</td>\n",
       "      <td>32487.724438</td>\n",
       "      <td>32327.035915</td>\n",
       "      <td>32183.315979</td>\n",
       "      <td>32057.213777</td>\n",
       "      <td>...</td>\n",
       "      <td>35299.295771</td>\n",
       "      <td>35503.320844</td>\n",
       "      <td>35693.304327</td>\n",
       "      <td>35864.290164</td>\n",
       "      <td>36014.235712</td>\n",
       "      <td>36143.929637</td>\n",
       "      <td>36256.560693</td>\n",
       "      <td>36357.073988</td>\n",
       "      <td>36451.442385</td>\n",
       "      <td>36545.941642</td>\n",
       "    </tr>\n",
       "    <tr>\n",
       "      <th>329</th>\n",
       "      <td>33600.907113</td>\n",
       "      <td>33426.803281</td>\n",
       "      <td>33265.030708</td>\n",
       "      <td>33119.812722</td>\n",
       "      <td>32992.626056</td>\n",
       "      <td>32881.874705</td>\n",
       "      <td>32783.149012</td>\n",
       "      <td>32690.066580</td>\n",
       "      <td>32595.542816</td>\n",
       "      <td>32493.218998</td>\n",
       "      <td>...</td>\n",
       "      <td>35146.893138</td>\n",
       "      <td>35263.502158</td>\n",
       "      <td>35394.930386</td>\n",
       "      <td>35543.165697</td>\n",
       "      <td>35708.410765</td>\n",
       "      <td>35888.883048</td>\n",
       "      <td>36080.932994</td>\n",
       "      <td>36279.482507</td>\n",
       "      <td>36478.712798</td>\n",
       "      <td>36672.867248</td>\n",
       "    </tr>\n",
       "  </tbody>\n",
       "</table>\n",
       "<p>330 rows × 500 columns</p>\n",
       "</div>"
      ],
      "text/plain": [
       "           -0.500        -0.498        -0.496        -0.494        -0.492  \\\n",
       "0    33845.075863  33653.018424  33464.794634  33289.828893  33136.726675   \n",
       "1    30097.531266  30014.026978  29932.544929  29854.538913  29781.865662   \n",
       "2    33543.558530  33366.171365  33195.089964  33035.869937  32892.509867   \n",
       "3    34331.552439  34187.955443  34082.706449  34016.317786  33984.290833   \n",
       "4    31935.151036  31858.200209  31782.400371  31702.086232  31613.018330   \n",
       "..            ...           ...           ...           ...           ...   \n",
       "325  34209.576817  34060.859194  33924.395604  33802.208409  33693.897070   \n",
       "326  34091.880314  33953.676909  33840.623491  33753.551542  33689.704191   \n",
       "327  33231.989927  33075.867278  32931.174893  32795.042527  32663.469891   \n",
       "328  33589.571270  33415.023453  33229.836995  33039.097937  32848.273161   \n",
       "329  33600.907113  33426.803281  33265.030708  33119.812722  32992.626056   \n",
       "\n",
       "           -0.490        -0.488        -0.486        -0.484        -0.482  \\\n",
       "0    33011.741246  32917.395087  32851.630895  32807.794046  32775.565755   \n",
       "1    29716.020933  29657.280130  29603.950731  29551.964183  29495.003178   \n",
       "2    32766.905519  32658.479796  32564.057332  32478.073054  32393.184993   \n",
       "3    33977.993820  33986.236594  33997.218458  34000.446088  33988.244270   \n",
       "4    31512.935404  31401.526991  31279.903400  31149.819545  31012.980474   \n",
       "..            ...           ...           ...           ...           ...   \n",
       "325  33596.787033  33506.374972  33417.027257  33322.847235  33218.586667   \n",
       "326  33642.930699  33604.294153  33563.093617  33508.253278  33429.951037   \n",
       "327  32531.936579  32396.072717  32252.277996  32098.185428  31932.902002   \n",
       "328  32662.816447  32487.724438  32327.035915  32183.315979  32057.213777   \n",
       "329  32881.874705  32783.149012  32690.066580  32595.542816  32493.218998   \n",
       "\n",
       "     ...         0.480         0.482         0.484         0.486  \\\n",
       "0    ...  34874.278057  34871.190147  34897.518041  34963.503540   \n",
       "1    ...  34996.575959  35163.484581  35349.749630  35551.011715   \n",
       "2    ...  34860.724878  35007.596124  35198.937240  35429.272915   \n",
       "3    ...  34993.196127  35166.062566  35363.136643  35578.963093   \n",
       "4    ...  35159.922853  35258.440304  35374.725663  35509.998765   \n",
       "..   ...           ...           ...           ...           ...   \n",
       "325  ...  35313.121326  35425.285769  35536.322956  35650.436309   \n",
       "326  ...  35348.598463  35490.782161  35623.165523  35749.498898   \n",
       "327  ...  35397.534828  35532.278225  35655.230255  35767.513741   \n",
       "328  ...  35299.295771  35503.320844  35693.304327  35864.290164   \n",
       "329  ...  35146.893138  35263.502158  35394.930386  35543.165697   \n",
       "\n",
       "            0.488         0.490         0.492         0.494         0.496  \\\n",
       "0    35075.375463  35234.931467  35439.693638  35683.496973  35957.313483   \n",
       "1    35761.337647  35973.931512  36181.921543  36379.075636  36560.337303   \n",
       "2    35688.715347  35964.198690  36241.067690  36504.743851  36742.221125   \n",
       "3    35806.251076  36036.564576  36261.053895  36471.215269  36659.684482   \n",
       "4    35663.622287  35833.158897  36014.661745  36203.186714  36393.456128   \n",
       "..            ...           ...           ...           ...           ...   \n",
       "325  35771.274490  35901.352767  36041.699980  36191.794526  36349.776135   \n",
       "326  35873.921110  36000.184878  36131.004625  36267.627695  36409.702604   \n",
       "327  35871.897608  35972.519804  36074.331232  36182.366458  36300.984535   \n",
       "328  36014.235712  36143.929637  36256.560693  36357.073988  36451.442385   \n",
       "329  35708.410765  35888.883048  36080.932994  36279.482507  36478.712798   \n",
       "\n",
       "            0.498  \n",
       "0    36250.134298  \n",
       "1    36722.147023  \n",
       "2    36943.240419  \n",
       "3    36821.047391  \n",
       "4    36580.544439  \n",
       "..            ...  \n",
       "325  36512.853345  \n",
       "326  36555.472967  \n",
       "327  36433.218163  \n",
       "328  36545.941642  \n",
       "329  36672.867248  \n",
       "\n",
       "[330 rows x 500 columns]"
      ]
     },
     "execution_count": 38,
     "metadata": {},
     "output_type": "execute_result"
    }
   ],
   "source": [
    "pdos_top_sum_df_train = pd.concat((pdos_top_sum_df[136:],pdos_bot_sum_df[136:]),ignore_index=True)\n",
    "pdos_top_sum_df_train.drop_duplicates()"
   ]
  },
  {
   "cell_type": "code",
   "execution_count": 39,
   "id": "f724746b-70a0-4a6a-8dcb-8437d46a56a0",
   "metadata": {},
   "outputs": [],
   "source": [
    "pdos_top_bot_sum_df_train = pdos_top_sum_df_train.round(5).drop_duplicates()"
   ]
  },
  {
   "cell_type": "code",
   "execution_count": 40,
   "id": "8aa683c1-b813-4ad8-916a-c5d787892776",
   "metadata": {},
   "outputs": [
    {
     "data": {
      "text/html": [
       "<div>\n",
       "<style scoped>\n",
       "    .dataframe tbody tr th:only-of-type {\n",
       "        vertical-align: middle;\n",
       "    }\n",
       "\n",
       "    .dataframe tbody tr th {\n",
       "        vertical-align: top;\n",
       "    }\n",
       "\n",
       "    .dataframe thead th {\n",
       "        text-align: right;\n",
       "    }\n",
       "</style>\n",
       "<table border=\"1\" class=\"dataframe\">\n",
       "  <thead>\n",
       "    <tr style=\"text-align: right;\">\n",
       "      <th></th>\n",
       "      <th>-0.500</th>\n",
       "      <th>-0.498</th>\n",
       "      <th>-0.496</th>\n",
       "      <th>-0.494</th>\n",
       "      <th>-0.492</th>\n",
       "      <th>-0.490</th>\n",
       "      <th>-0.488</th>\n",
       "      <th>-0.486</th>\n",
       "      <th>-0.484</th>\n",
       "      <th>-0.482</th>\n",
       "      <th>...</th>\n",
       "      <th>0.480</th>\n",
       "      <th>0.482</th>\n",
       "      <th>0.484</th>\n",
       "      <th>0.486</th>\n",
       "      <th>0.488</th>\n",
       "      <th>0.490</th>\n",
       "      <th>0.492</th>\n",
       "      <th>0.494</th>\n",
       "      <th>0.496</th>\n",
       "      <th>0.498</th>\n",
       "    </tr>\n",
       "  </thead>\n",
       "  <tbody>\n",
       "    <tr>\n",
       "      <th>0</th>\n",
       "      <td>33845.07586</td>\n",
       "      <td>33653.01842</td>\n",
       "      <td>33464.79463</td>\n",
       "      <td>33289.82889</td>\n",
       "      <td>33136.72668</td>\n",
       "      <td>33011.74125</td>\n",
       "      <td>32917.39509</td>\n",
       "      <td>32851.63089</td>\n",
       "      <td>32807.79405</td>\n",
       "      <td>32775.56576</td>\n",
       "      <td>...</td>\n",
       "      <td>34874.27806</td>\n",
       "      <td>34871.19015</td>\n",
       "      <td>34897.51804</td>\n",
       "      <td>34963.50354</td>\n",
       "      <td>35075.37546</td>\n",
       "      <td>35234.93147</td>\n",
       "      <td>35439.69364</td>\n",
       "      <td>35683.49697</td>\n",
       "      <td>35957.31348</td>\n",
       "      <td>36250.13430</td>\n",
       "    </tr>\n",
       "    <tr>\n",
       "      <th>1</th>\n",
       "      <td>30097.53127</td>\n",
       "      <td>30014.02698</td>\n",
       "      <td>29932.54493</td>\n",
       "      <td>29854.53891</td>\n",
       "      <td>29781.86566</td>\n",
       "      <td>29716.02093</td>\n",
       "      <td>29657.28013</td>\n",
       "      <td>29603.95073</td>\n",
       "      <td>29551.96418</td>\n",
       "      <td>29495.00318</td>\n",
       "      <td>...</td>\n",
       "      <td>34996.57596</td>\n",
       "      <td>35163.48458</td>\n",
       "      <td>35349.74963</td>\n",
       "      <td>35551.01171</td>\n",
       "      <td>35761.33765</td>\n",
       "      <td>35973.93151</td>\n",
       "      <td>36181.92154</td>\n",
       "      <td>36379.07564</td>\n",
       "      <td>36560.33730</td>\n",
       "      <td>36722.14702</td>\n",
       "    </tr>\n",
       "    <tr>\n",
       "      <th>2</th>\n",
       "      <td>33543.55853</td>\n",
       "      <td>33366.17136</td>\n",
       "      <td>33195.08996</td>\n",
       "      <td>33035.86994</td>\n",
       "      <td>32892.50987</td>\n",
       "      <td>32766.90552</td>\n",
       "      <td>32658.47980</td>\n",
       "      <td>32564.05733</td>\n",
       "      <td>32478.07305</td>\n",
       "      <td>32393.18499</td>\n",
       "      <td>...</td>\n",
       "      <td>34860.72488</td>\n",
       "      <td>35007.59612</td>\n",
       "      <td>35198.93724</td>\n",
       "      <td>35429.27291</td>\n",
       "      <td>35688.71535</td>\n",
       "      <td>35964.19869</td>\n",
       "      <td>36241.06769</td>\n",
       "      <td>36504.74385</td>\n",
       "      <td>36742.22113</td>\n",
       "      <td>36943.24042</td>\n",
       "    </tr>\n",
       "    <tr>\n",
       "      <th>3</th>\n",
       "      <td>34331.55244</td>\n",
       "      <td>34187.95544</td>\n",
       "      <td>34082.70645</td>\n",
       "      <td>34016.31779</td>\n",
       "      <td>33984.29083</td>\n",
       "      <td>33977.99382</td>\n",
       "      <td>33986.23659</td>\n",
       "      <td>33997.21846</td>\n",
       "      <td>34000.44609</td>\n",
       "      <td>33988.24427</td>\n",
       "      <td>...</td>\n",
       "      <td>34993.19613</td>\n",
       "      <td>35166.06257</td>\n",
       "      <td>35363.13664</td>\n",
       "      <td>35578.96309</td>\n",
       "      <td>35806.25108</td>\n",
       "      <td>36036.56458</td>\n",
       "      <td>36261.05390</td>\n",
       "      <td>36471.21527</td>\n",
       "      <td>36659.68448</td>\n",
       "      <td>36821.04739</td>\n",
       "    </tr>\n",
       "    <tr>\n",
       "      <th>4</th>\n",
       "      <td>31935.15104</td>\n",
       "      <td>31858.20021</td>\n",
       "      <td>31782.40037</td>\n",
       "      <td>31702.08623</td>\n",
       "      <td>31613.01833</td>\n",
       "      <td>31512.93540</td>\n",
       "      <td>31401.52699</td>\n",
       "      <td>31279.90340</td>\n",
       "      <td>31149.81955</td>\n",
       "      <td>31012.98047</td>\n",
       "      <td>...</td>\n",
       "      <td>35159.92285</td>\n",
       "      <td>35258.44030</td>\n",
       "      <td>35374.72566</td>\n",
       "      <td>35509.99877</td>\n",
       "      <td>35663.62229</td>\n",
       "      <td>35833.15890</td>\n",
       "      <td>36014.66175</td>\n",
       "      <td>36203.18671</td>\n",
       "      <td>36393.45613</td>\n",
       "      <td>36580.54444</td>\n",
       "    </tr>\n",
       "    <tr>\n",
       "      <th>...</th>\n",
       "      <td>...</td>\n",
       "      <td>...</td>\n",
       "      <td>...</td>\n",
       "      <td>...</td>\n",
       "      <td>...</td>\n",
       "      <td>...</td>\n",
       "      <td>...</td>\n",
       "      <td>...</td>\n",
       "      <td>...</td>\n",
       "      <td>...</td>\n",
       "      <td>...</td>\n",
       "      <td>...</td>\n",
       "      <td>...</td>\n",
       "      <td>...</td>\n",
       "      <td>...</td>\n",
       "      <td>...</td>\n",
       "      <td>...</td>\n",
       "      <td>...</td>\n",
       "      <td>...</td>\n",
       "      <td>...</td>\n",
       "      <td>...</td>\n",
       "    </tr>\n",
       "    <tr>\n",
       "      <th>322</th>\n",
       "      <td>34460.52185</td>\n",
       "      <td>34367.28075</td>\n",
       "      <td>34290.69447</td>\n",
       "      <td>34228.76348</td>\n",
       "      <td>34177.85654</td>\n",
       "      <td>34133.56714</td>\n",
       "      <td>34091.67965</td>\n",
       "      <td>34048.99933</td>\n",
       "      <td>34003.84292</td>\n",
       "      <td>33956.09116</td>\n",
       "      <td>...</td>\n",
       "      <td>35421.15425</td>\n",
       "      <td>35595.75478</td>\n",
       "      <td>35754.61100</td>\n",
       "      <td>35895.53703</td>\n",
       "      <td>36017.68714</td>\n",
       "      <td>36121.72193</td>\n",
       "      <td>36209.97458</td>\n",
       "      <td>36286.52307</td>\n",
       "      <td>36357.05570</td>\n",
       "      <td>36428.45094</td>\n",
       "    </tr>\n",
       "    <tr>\n",
       "      <th>323</th>\n",
       "      <td>34706.57733</td>\n",
       "      <td>34660.37154</td>\n",
       "      <td>34623.86563</td>\n",
       "      <td>34593.29843</td>\n",
       "      <td>34564.12483</td>\n",
       "      <td>34531.73458</td>\n",
       "      <td>34492.21162</td>\n",
       "      <td>34442.98907</td>\n",
       "      <td>34383.27647</td>\n",
       "      <td>34314.18826</td>\n",
       "      <td>...</td>\n",
       "      <td>35129.90930</td>\n",
       "      <td>35301.04788</td>\n",
       "      <td>35485.89047</td>\n",
       "      <td>35681.38737</td>\n",
       "      <td>35882.69875</td>\n",
       "      <td>36083.43953</td>\n",
       "      <td>36276.37392</td>\n",
       "      <td>36454.48645</td>\n",
       "      <td>36612.20843</td>\n",
       "      <td>36746.49225</td>\n",
       "    </tr>\n",
       "    <tr>\n",
       "      <th>324</th>\n",
       "      <td>34126.84195</td>\n",
       "      <td>34020.01102</td>\n",
       "      <td>33921.55289</td>\n",
       "      <td>33832.05303</td>\n",
       "      <td>33751.54805</td>\n",
       "      <td>33679.62324</td>\n",
       "      <td>33615.49829</td>\n",
       "      <td>33558.08189</td>\n",
       "      <td>33505.98414</td>\n",
       "      <td>33457.48743</td>\n",
       "      <td>...</td>\n",
       "      <td>35342.08847</td>\n",
       "      <td>35515.92449</td>\n",
       "      <td>35681.05062</td>\n",
       "      <td>35835.50981</td>\n",
       "      <td>35977.88171</td>\n",
       "      <td>36107.47397</td>\n",
       "      <td>36224.57265</td>\n",
       "      <td>36330.67854</td>\n",
       "      <td>36428.61876</td>\n",
       "      <td>36522.42526</td>\n",
       "    </tr>\n",
       "    <tr>\n",
       "      <th>326</th>\n",
       "      <td>34091.88031</td>\n",
       "      <td>33953.67691</td>\n",
       "      <td>33840.62349</td>\n",
       "      <td>33753.55154</td>\n",
       "      <td>33689.70419</td>\n",
       "      <td>33642.93070</td>\n",
       "      <td>33604.29415</td>\n",
       "      <td>33563.09362</td>\n",
       "      <td>33508.25328</td>\n",
       "      <td>33429.95104</td>\n",
       "      <td>...</td>\n",
       "      <td>35348.59846</td>\n",
       "      <td>35490.78216</td>\n",
       "      <td>35623.16552</td>\n",
       "      <td>35749.49890</td>\n",
       "      <td>35873.92111</td>\n",
       "      <td>36000.18488</td>\n",
       "      <td>36131.00462</td>\n",
       "      <td>36267.62770</td>\n",
       "      <td>36409.70260</td>\n",
       "      <td>36555.47297</td>\n",
       "    </tr>\n",
       "    <tr>\n",
       "      <th>328</th>\n",
       "      <td>33589.57127</td>\n",
       "      <td>33415.02345</td>\n",
       "      <td>33229.83699</td>\n",
       "      <td>33039.09794</td>\n",
       "      <td>32848.27316</td>\n",
       "      <td>32662.81645</td>\n",
       "      <td>32487.72444</td>\n",
       "      <td>32327.03591</td>\n",
       "      <td>32183.31598</td>\n",
       "      <td>32057.21378</td>\n",
       "      <td>...</td>\n",
       "      <td>35299.29577</td>\n",
       "      <td>35503.32084</td>\n",
       "      <td>35693.30433</td>\n",
       "      <td>35864.29016</td>\n",
       "      <td>36014.23571</td>\n",
       "      <td>36143.92964</td>\n",
       "      <td>36256.56069</td>\n",
       "      <td>36357.07399</td>\n",
       "      <td>36451.44238</td>\n",
       "      <td>36545.94164</td>\n",
       "    </tr>\n",
       "  </tbody>\n",
       "</table>\n",
       "<p>255 rows × 500 columns</p>\n",
       "</div>"
      ],
      "text/plain": [
       "          -0.500       -0.498       -0.496       -0.494       -0.492  \\\n",
       "0    33845.07586  33653.01842  33464.79463  33289.82889  33136.72668   \n",
       "1    30097.53127  30014.02698  29932.54493  29854.53891  29781.86566   \n",
       "2    33543.55853  33366.17136  33195.08996  33035.86994  32892.50987   \n",
       "3    34331.55244  34187.95544  34082.70645  34016.31779  33984.29083   \n",
       "4    31935.15104  31858.20021  31782.40037  31702.08623  31613.01833   \n",
       "..           ...          ...          ...          ...          ...   \n",
       "322  34460.52185  34367.28075  34290.69447  34228.76348  34177.85654   \n",
       "323  34706.57733  34660.37154  34623.86563  34593.29843  34564.12483   \n",
       "324  34126.84195  34020.01102  33921.55289  33832.05303  33751.54805   \n",
       "326  34091.88031  33953.67691  33840.62349  33753.55154  33689.70419   \n",
       "328  33589.57127  33415.02345  33229.83699  33039.09794  32848.27316   \n",
       "\n",
       "          -0.490       -0.488       -0.486       -0.484       -0.482  ...  \\\n",
       "0    33011.74125  32917.39509  32851.63089  32807.79405  32775.56576  ...   \n",
       "1    29716.02093  29657.28013  29603.95073  29551.96418  29495.00318  ...   \n",
       "2    32766.90552  32658.47980  32564.05733  32478.07305  32393.18499  ...   \n",
       "3    33977.99382  33986.23659  33997.21846  34000.44609  33988.24427  ...   \n",
       "4    31512.93540  31401.52699  31279.90340  31149.81955  31012.98047  ...   \n",
       "..           ...          ...          ...          ...          ...  ...   \n",
       "322  34133.56714  34091.67965  34048.99933  34003.84292  33956.09116  ...   \n",
       "323  34531.73458  34492.21162  34442.98907  34383.27647  34314.18826  ...   \n",
       "324  33679.62324  33615.49829  33558.08189  33505.98414  33457.48743  ...   \n",
       "326  33642.93070  33604.29415  33563.09362  33508.25328  33429.95104  ...   \n",
       "328  32662.81645  32487.72444  32327.03591  32183.31598  32057.21378  ...   \n",
       "\n",
       "           0.480        0.482        0.484        0.486        0.488  \\\n",
       "0    34874.27806  34871.19015  34897.51804  34963.50354  35075.37546   \n",
       "1    34996.57596  35163.48458  35349.74963  35551.01171  35761.33765   \n",
       "2    34860.72488  35007.59612  35198.93724  35429.27291  35688.71535   \n",
       "3    34993.19613  35166.06257  35363.13664  35578.96309  35806.25108   \n",
       "4    35159.92285  35258.44030  35374.72566  35509.99877  35663.62229   \n",
       "..           ...          ...          ...          ...          ...   \n",
       "322  35421.15425  35595.75478  35754.61100  35895.53703  36017.68714   \n",
       "323  35129.90930  35301.04788  35485.89047  35681.38737  35882.69875   \n",
       "324  35342.08847  35515.92449  35681.05062  35835.50981  35977.88171   \n",
       "326  35348.59846  35490.78216  35623.16552  35749.49890  35873.92111   \n",
       "328  35299.29577  35503.32084  35693.30433  35864.29016  36014.23571   \n",
       "\n",
       "           0.490        0.492        0.494        0.496        0.498  \n",
       "0    35234.93147  35439.69364  35683.49697  35957.31348  36250.13430  \n",
       "1    35973.93151  36181.92154  36379.07564  36560.33730  36722.14702  \n",
       "2    35964.19869  36241.06769  36504.74385  36742.22113  36943.24042  \n",
       "3    36036.56458  36261.05390  36471.21527  36659.68448  36821.04739  \n",
       "4    35833.15890  36014.66175  36203.18671  36393.45613  36580.54444  \n",
       "..           ...          ...          ...          ...          ...  \n",
       "322  36121.72193  36209.97458  36286.52307  36357.05570  36428.45094  \n",
       "323  36083.43953  36276.37392  36454.48645  36612.20843  36746.49225  \n",
       "324  36107.47397  36224.57265  36330.67854  36428.61876  36522.42526  \n",
       "326  36000.18488  36131.00462  36267.62770  36409.70260  36555.47297  \n",
       "328  36143.92964  36256.56069  36357.07399  36451.44238  36545.94164  \n",
       "\n",
       "[255 rows x 500 columns]"
      ]
     },
     "execution_count": 40,
     "metadata": {},
     "output_type": "execute_result"
    }
   ],
   "source": [
    "pdos_top_bot_sum_df_train"
   ]
  },
  {
   "cell_type": "code",
   "execution_count": 41,
   "id": "82251d29-7bc2-464b-9e05-a5fcaa02a9c8",
   "metadata": {},
   "outputs": [],
   "source": [
    "#pdos_top_sum_df_train['y'] = directories[129:141]\n",
    "#pdos_top_sum_df_train = pd.get_dummies(pdos_top_sum_df_train,columns=['y'])\n",
    "y_train_top = ['TOP_' + directory for directory in directories[136:]]\n",
    "y_train_bot = ['BOT_' + directory for directory in directories[136:]]\n",
    "y_train = y_train_top + y_train_bot\n",
    "\n",
    "y_test_top = ['TOP_' + directory for directory in directories[:136]]\n",
    "y_test_bot = ['BOT_' + directory for directory in directories[:136]]\n",
    "y_test = y_test_top + y_test_bot"
   ]
  },
  {
   "cell_type": "code",
   "execution_count": 42,
   "id": "0c2cff4b-3257-4b62-ba56-bba8f58119c8",
   "metadata": {},
   "outputs": [],
   "source": [
    "y_train = array(y_train)[pdos_top_bot_sum_df_train.index]"
   ]
  },
  {
   "cell_type": "code",
   "execution_count": null,
   "id": "e582bd93-8cb9-439a-90c2-01f9b335a478",
   "metadata": {},
   "outputs": [],
   "source": []
  },
  {
   "cell_type": "code",
   "execution_count": 43,
   "id": "ef46f820-0842-4cda-aaa7-15071f38324b",
   "metadata": {},
   "outputs": [
    {
     "name": "stderr",
     "output_type": "stream",
     "text": [
      "C:\\Users\\Jancsi\\anaconda3\\lib\\site-packages\\sklearn\\utils\\validation.py:1688: FutureWarning:\n",
      "\n",
      "Feature names only support names that are all strings. Got feature names with dtypes: ['float']. An error will be raised in 1.2.\n",
      "\n"
     ]
    }
   ],
   "source": [
    "clf = DecisionTreeClassifier(random_state=69420).fit(pdos_top_bot_sum_df_train,y_train)"
   ]
  },
  {
   "cell_type": "code",
   "execution_count": 44,
   "id": "959a2cf9-db25-456a-a0c4-8f134de5865e",
   "metadata": {},
   "outputs": [
    {
     "data": {
      "text/plain": [
       "'\\nplt.figure(figsize = (30, 15))\\ntitle(\"Minden\")\\nplot_tree(clf, max_depth=20, filled=True, \\n          feature_names=pdos_top_sum_df_train.columns, class_names=sorted(y_train),\\n          fontsize = 8, proportion = True,);\\n          '"
      ]
     },
     "execution_count": 44,
     "metadata": {},
     "output_type": "execute_result"
    }
   ],
   "source": [
    "'''\n",
    "plt.figure(figsize = (30, 15))\n",
    "title(\"Minden\")\n",
    "plot_tree(clf, max_depth=20, filled=True, \n",
    "          feature_names=pdos_top_sum_df_train.columns, class_names=sorted(y_train),\n",
    "          fontsize = 8, proportion = True,);\n",
    "          '''"
   ]
  },
  {
   "cell_type": "code",
   "execution_count": 45,
   "id": "23c380d1-9b14-472e-9b3d-f2c77c433ce8",
   "metadata": {},
   "outputs": [
    {
     "data": {
      "text/html": [
       "<div>\n",
       "<style scoped>\n",
       "    .dataframe tbody tr th:only-of-type {\n",
       "        vertical-align: middle;\n",
       "    }\n",
       "\n",
       "    .dataframe tbody tr th {\n",
       "        vertical-align: top;\n",
       "    }\n",
       "\n",
       "    .dataframe thead th {\n",
       "        text-align: right;\n",
       "    }\n",
       "</style>\n",
       "<table border=\"1\" class=\"dataframe\">\n",
       "  <thead>\n",
       "    <tr style=\"text-align: right;\">\n",
       "      <th></th>\n",
       "      <th>-0.500</th>\n",
       "      <th>-0.498</th>\n",
       "      <th>-0.496</th>\n",
       "      <th>-0.494</th>\n",
       "      <th>-0.492</th>\n",
       "      <th>-0.490</th>\n",
       "      <th>-0.488</th>\n",
       "      <th>-0.486</th>\n",
       "      <th>-0.484</th>\n",
       "      <th>-0.482</th>\n",
       "      <th>...</th>\n",
       "      <th>0.480</th>\n",
       "      <th>0.482</th>\n",
       "      <th>0.484</th>\n",
       "      <th>0.486</th>\n",
       "      <th>0.488</th>\n",
       "      <th>0.490</th>\n",
       "      <th>0.492</th>\n",
       "      <th>0.494</th>\n",
       "      <th>0.496</th>\n",
       "      <th>0.498</th>\n",
       "    </tr>\n",
       "  </thead>\n",
       "  <tbody>\n",
       "    <tr>\n",
       "      <th>0</th>\n",
       "      <td>33659.45670</td>\n",
       "      <td>33558.57439</td>\n",
       "      <td>33450.10768</td>\n",
       "      <td>33331.17912</td>\n",
       "      <td>33200.44811</td>\n",
       "      <td>33058.35145</td>\n",
       "      <td>32907.05325</td>\n",
       "      <td>32750.08742</td>\n",
       "      <td>32591.73357</td>\n",
       "      <td>32436.23007</td>\n",
       "      <td>...</td>\n",
       "      <td>35214.20271</td>\n",
       "      <td>35353.68900</td>\n",
       "      <td>35498.81520</td>\n",
       "      <td>35649.39743</td>\n",
       "      <td>35805.42621</td>\n",
       "      <td>35966.80074</td>\n",
       "      <td>36132.96821</td>\n",
       "      <td>36302.58937</td>\n",
       "      <td>36473.35657</td>\n",
       "      <td>36642.05866</td>\n",
       "    </tr>\n",
       "    <tr>\n",
       "      <th>1</th>\n",
       "      <td>33686.97768</td>\n",
       "      <td>33566.63000</td>\n",
       "      <td>33436.91206</td>\n",
       "      <td>33298.83799</td>\n",
       "      <td>33154.88294</td>\n",
       "      <td>33008.30995</td>\n",
       "      <td>32862.39480</td>\n",
       "      <td>32719.75519</td>\n",
       "      <td>32581.93741</td>\n",
       "      <td>32449.32242</td>\n",
       "      <td>...</td>\n",
       "      <td>35233.42962</td>\n",
       "      <td>35390.55549</td>\n",
       "      <td>35550.92247</td>\n",
       "      <td>35713.80164</td>\n",
       "      <td>35878.66591</td>\n",
       "      <td>36044.74549</td>\n",
       "      <td>36210.58248</td>\n",
       "      <td>36373.78149</td>\n",
       "      <td>36531.10736</td>\n",
       "      <td>36678.97416</td>\n",
       "    </tr>\n",
       "    <tr>\n",
       "      <th>2</th>\n",
       "      <td>33582.14426</td>\n",
       "      <td>33482.62858</td>\n",
       "      <td>33356.98407</td>\n",
       "      <td>33203.13817</td>\n",
       "      <td>33022.83720</td>\n",
       "      <td>32821.54860</td>\n",
       "      <td>32607.82642</td>\n",
       "      <td>32392.20438</td>\n",
       "      <td>32185.75059</td>\n",
       "      <td>31998.48066</td>\n",
       "      <td>...</td>\n",
       "      <td>35085.87806</td>\n",
       "      <td>35287.16339</td>\n",
       "      <td>35504.01782</td>\n",
       "      <td>35726.74153</td>\n",
       "      <td>35945.40010</td>\n",
       "      <td>36151.05242</td>\n",
       "      <td>36336.76395</td>\n",
       "      <td>36498.30363</td>\n",
       "      <td>36634.46367</td>\n",
       "      <td>36746.98285</td>\n",
       "    </tr>\n",
       "    <tr>\n",
       "      <th>3</th>\n",
       "      <td>34309.88651</td>\n",
       "      <td>34205.42305</td>\n",
       "      <td>34088.08475</td>\n",
       "      <td>33957.59884</td>\n",
       "      <td>33815.28248</td>\n",
       "      <td>33663.91985</td>\n",
       "      <td>33507.46228</td>\n",
       "      <td>33350.56134</td>\n",
       "      <td>33197.97462</td>\n",
       "      <td>33053.92122</td>\n",
       "      <td>...</td>\n",
       "      <td>35122.44146</td>\n",
       "      <td>35347.88022</td>\n",
       "      <td>35577.03384</td>\n",
       "      <td>35798.08072</td>\n",
       "      <td>36000.89771</td>\n",
       "      <td>36178.56470</td>\n",
       "      <td>36328.30572</td>\n",
       "      <td>36451.66958</td>\n",
       "      <td>36553.91132</td>\n",
       "      <td>36642.72213</td>\n",
       "    </tr>\n",
       "    <tr>\n",
       "      <th>4</th>\n",
       "      <td>31892.49418</td>\n",
       "      <td>31788.58261</td>\n",
       "      <td>31676.18748</td>\n",
       "      <td>31554.61125</td>\n",
       "      <td>31423.66464</td>\n",
       "      <td>31283.75384</td>\n",
       "      <td>31135.98082</td>\n",
       "      <td>30982.22787</td>\n",
       "      <td>30825.18593</td>\n",
       "      <td>30668.28054</td>\n",
       "      <td>...</td>\n",
       "      <td>35298.43197</td>\n",
       "      <td>35480.47636</td>\n",
       "      <td>35669.49495</td>\n",
       "      <td>35859.06708</td>\n",
       "      <td>36041.63427</td>\n",
       "      <td>36209.56133</td>\n",
       "      <td>36356.36226</td>\n",
       "      <td>36477.87860</td>\n",
       "      <td>36573.18006</td>\n",
       "      <td>36644.98249</td>\n",
       "    </tr>\n",
       "    <tr>\n",
       "      <th>...</th>\n",
       "      <td>...</td>\n",
       "      <td>...</td>\n",
       "      <td>...</td>\n",
       "      <td>...</td>\n",
       "      <td>...</td>\n",
       "      <td>...</td>\n",
       "      <td>...</td>\n",
       "      <td>...</td>\n",
       "      <td>...</td>\n",
       "      <td>...</td>\n",
       "      <td>...</td>\n",
       "      <td>...</td>\n",
       "      <td>...</td>\n",
       "      <td>...</td>\n",
       "      <td>...</td>\n",
       "      <td>...</td>\n",
       "      <td>...</td>\n",
       "      <td>...</td>\n",
       "      <td>...</td>\n",
       "      <td>...</td>\n",
       "      <td>...</td>\n",
       "    </tr>\n",
       "    <tr>\n",
       "      <th>267</th>\n",
       "      <td>33388.69093</td>\n",
       "      <td>33256.30475</td>\n",
       "      <td>33110.97923</td>\n",
       "      <td>32949.30944</td>\n",
       "      <td>32769.97573</td>\n",
       "      <td>32574.02281</td>\n",
       "      <td>32364.89574</td>\n",
       "      <td>32148.20061</td>\n",
       "      <td>31931.16251</td>\n",
       "      <td>31721.78164</td>\n",
       "      <td>...</td>\n",
       "      <td>35109.30414</td>\n",
       "      <td>35290.90973</td>\n",
       "      <td>35486.82508</td>\n",
       "      <td>35689.79815</td>\n",
       "      <td>35892.10245</td>\n",
       "      <td>36086.61573</td>\n",
       "      <td>36267.76180</td>\n",
       "      <td>36432.13900</td>\n",
       "      <td>36578.72469</td>\n",
       "      <td>36708.64559</td>\n",
       "    </tr>\n",
       "    <tr>\n",
       "      <th>268</th>\n",
       "      <td>33495.95616</td>\n",
       "      <td>33401.21096</td>\n",
       "      <td>33298.47840</td>\n",
       "      <td>33181.39715</td>\n",
       "      <td>33045.71390</td>\n",
       "      <td>32889.92726</td>\n",
       "      <td>32715.46764</td>\n",
       "      <td>32526.39818</td>\n",
       "      <td>32328.70823</td>\n",
       "      <td>32129.33844</td>\n",
       "      <td>...</td>\n",
       "      <td>35259.94463</td>\n",
       "      <td>35434.34353</td>\n",
       "      <td>35606.14630</td>\n",
       "      <td>35771.38332</td>\n",
       "      <td>35927.56407</td>\n",
       "      <td>36073.76330</td>\n",
       "      <td>36210.41093</td>\n",
       "      <td>36338.90213</td>\n",
       "      <td>36461.16027</td>\n",
       "      <td>36579.26341</td>\n",
       "    </tr>\n",
       "    <tr>\n",
       "      <th>269</th>\n",
       "      <td>33540.11168</td>\n",
       "      <td>33418.73212</td>\n",
       "      <td>33282.52795</td>\n",
       "      <td>33130.46966</td>\n",
       "      <td>32963.57072</td>\n",
       "      <td>32784.92096</td>\n",
       "      <td>32599.46518</td>\n",
       "      <td>32413.49422</td>\n",
       "      <td>32233.85213</td>\n",
       "      <td>32066.93120</td>\n",
       "      <td>...</td>\n",
       "      <td>35070.64019</td>\n",
       "      <td>35235.13250</td>\n",
       "      <td>35419.86268</td>\n",
       "      <td>35619.04004</td>\n",
       "      <td>35825.53080</td>\n",
       "      <td>36031.81772</td>\n",
       "      <td>36230.97555</td>\n",
       "      <td>36417.49437</td>\n",
       "      <td>36587.81015</td>\n",
       "      <td>36740.46634</td>\n",
       "    </tr>\n",
       "    <tr>\n",
       "      <th>270</th>\n",
       "      <td>33549.11675</td>\n",
       "      <td>33437.83779</td>\n",
       "      <td>33336.29896</td>\n",
       "      <td>33243.79526</td>\n",
       "      <td>33158.27814</td>\n",
       "      <td>33076.14374</td>\n",
       "      <td>32992.41131</td>\n",
       "      <td>32901.35030</td>\n",
       "      <td>32797.47122</td>\n",
       "      <td>32676.66655</td>\n",
       "      <td>...</td>\n",
       "      <td>35225.93760</td>\n",
       "      <td>35394.58984</td>\n",
       "      <td>35563.68901</td>\n",
       "      <td>35731.53092</td>\n",
       "      <td>35897.17736</td>\n",
       "      <td>36060.08401</td>\n",
       "      <td>36219.67805</td>\n",
       "      <td>36375.04959</td>\n",
       "      <td>36524.86710</td>\n",
       "      <td>36667.54348</td>\n",
       "    </tr>\n",
       "    <tr>\n",
       "      <th>271</th>\n",
       "      <td>33663.22746</td>\n",
       "      <td>33511.60467</td>\n",
       "      <td>33356.43059</td>\n",
       "      <td>33201.00469</td>\n",
       "      <td>33048.87457</td>\n",
       "      <td>32903.38237</td>\n",
       "      <td>32767.19339</td>\n",
       "      <td>32641.86898</td>\n",
       "      <td>32527.54746</td>\n",
       "      <td>32422.79125</td>\n",
       "      <td>...</td>\n",
       "      <td>35273.29470</td>\n",
       "      <td>35398.39862</td>\n",
       "      <td>35525.10296</td>\n",
       "      <td>35654.42163</td>\n",
       "      <td>35787.54419</td>\n",
       "      <td>35925.70488</td>\n",
       "      <td>36070.02700</td>\n",
       "      <td>36221.32577</td>\n",
       "      <td>36379.85461</td>\n",
       "      <td>36545.01382</td>\n",
       "    </tr>\n",
       "  </tbody>\n",
       "</table>\n",
       "<p>272 rows × 500 columns</p>\n",
       "</div>"
      ],
      "text/plain": [
       "          -0.500       -0.498       -0.496       -0.494       -0.492  \\\n",
       "0    33659.45670  33558.57439  33450.10768  33331.17912  33200.44811   \n",
       "1    33686.97768  33566.63000  33436.91206  33298.83799  33154.88294   \n",
       "2    33582.14426  33482.62858  33356.98407  33203.13817  33022.83720   \n",
       "3    34309.88651  34205.42305  34088.08475  33957.59884  33815.28248   \n",
       "4    31892.49418  31788.58261  31676.18748  31554.61125  31423.66464   \n",
       "..           ...          ...          ...          ...          ...   \n",
       "267  33388.69093  33256.30475  33110.97923  32949.30944  32769.97573   \n",
       "268  33495.95616  33401.21096  33298.47840  33181.39715  33045.71390   \n",
       "269  33540.11168  33418.73212  33282.52795  33130.46966  32963.57072   \n",
       "270  33549.11675  33437.83779  33336.29896  33243.79526  33158.27814   \n",
       "271  33663.22746  33511.60467  33356.43059  33201.00469  33048.87457   \n",
       "\n",
       "          -0.490       -0.488       -0.486       -0.484       -0.482  ...  \\\n",
       "0    33058.35145  32907.05325  32750.08742  32591.73357  32436.23007  ...   \n",
       "1    33008.30995  32862.39480  32719.75519  32581.93741  32449.32242  ...   \n",
       "2    32821.54860  32607.82642  32392.20438  32185.75059  31998.48066  ...   \n",
       "3    33663.91985  33507.46228  33350.56134  33197.97462  33053.92122  ...   \n",
       "4    31283.75384  31135.98082  30982.22787  30825.18593  30668.28054  ...   \n",
       "..           ...          ...          ...          ...          ...  ...   \n",
       "267  32574.02281  32364.89574  32148.20061  31931.16251  31721.78164  ...   \n",
       "268  32889.92726  32715.46764  32526.39818  32328.70823  32129.33844  ...   \n",
       "269  32784.92096  32599.46518  32413.49422  32233.85213  32066.93120  ...   \n",
       "270  33076.14374  32992.41131  32901.35030  32797.47122  32676.66655  ...   \n",
       "271  32903.38237  32767.19339  32641.86898  32527.54746  32422.79125  ...   \n",
       "\n",
       "           0.480        0.482        0.484        0.486        0.488  \\\n",
       "0    35214.20271  35353.68900  35498.81520  35649.39743  35805.42621   \n",
       "1    35233.42962  35390.55549  35550.92247  35713.80164  35878.66591   \n",
       "2    35085.87806  35287.16339  35504.01782  35726.74153  35945.40010   \n",
       "3    35122.44146  35347.88022  35577.03384  35798.08072  36000.89771   \n",
       "4    35298.43197  35480.47636  35669.49495  35859.06708  36041.63427   \n",
       "..           ...          ...          ...          ...          ...   \n",
       "267  35109.30414  35290.90973  35486.82508  35689.79815  35892.10245   \n",
       "268  35259.94463  35434.34353  35606.14630  35771.38332  35927.56407   \n",
       "269  35070.64019  35235.13250  35419.86268  35619.04004  35825.53080   \n",
       "270  35225.93760  35394.58984  35563.68901  35731.53092  35897.17736   \n",
       "271  35273.29470  35398.39862  35525.10296  35654.42163  35787.54419   \n",
       "\n",
       "           0.490        0.492        0.494        0.496        0.498  \n",
       "0    35966.80074  36132.96821  36302.58937  36473.35657  36642.05866  \n",
       "1    36044.74549  36210.58248  36373.78149  36531.10736  36678.97416  \n",
       "2    36151.05242  36336.76395  36498.30363  36634.46367  36746.98285  \n",
       "3    36178.56470  36328.30572  36451.66958  36553.91132  36642.72213  \n",
       "4    36209.56133  36356.36226  36477.87860  36573.18006  36644.98249  \n",
       "..           ...          ...          ...          ...          ...  \n",
       "267  36086.61573  36267.76180  36432.13900  36578.72469  36708.64559  \n",
       "268  36073.76330  36210.41093  36338.90213  36461.16027  36579.26341  \n",
       "269  36031.81772  36230.97555  36417.49437  36587.81015  36740.46634  \n",
       "270  36060.08401  36219.67805  36375.04959  36524.86710  36667.54348  \n",
       "271  35925.70488  36070.02700  36221.32577  36379.85461  36545.01382  \n",
       "\n",
       "[272 rows x 500 columns]"
      ]
     },
     "execution_count": 45,
     "metadata": {},
     "output_type": "execute_result"
    }
   ],
   "source": [
    "pdos_test = pd.concat((pdos_top_sum_df[:136],pdos_bot_sum_df[:136]),ignore_index=True).round(5)\n",
    "pdos_test"
   ]
  },
  {
   "cell_type": "code",
   "execution_count": null,
   "id": "01ea0168-ee70-4500-b35c-c9dc7224ca72",
   "metadata": {},
   "outputs": [],
   "source": []
  },
  {
   "cell_type": "code",
   "execution_count": 46,
   "id": "cedc7da8-2d20-46a5-9557-2806ff9dd19a",
   "metadata": {},
   "outputs": [
    {
     "name": "stderr",
     "output_type": "stream",
     "text": [
      "C:\\Users\\Jancsi\\anaconda3\\lib\\site-packages\\sklearn\\utils\\validation.py:1688: FutureWarning:\n",
      "\n",
      "Feature names only support names that are all strings. Got feature names with dtypes: ['float']. An error will be raised in 1.2.\n",
      "\n"
     ]
    }
   ],
   "source": [
    "directories_pred_abs = clf.predict(pdos_test)"
   ]
  },
  {
   "cell_type": "code",
   "execution_count": 118,
   "id": "dfa540b7-be0f-47d8-9be0-b9520d0e8085",
   "metadata": {},
   "outputs": [
    {
     "name": "stderr",
     "output_type": "stream",
     "text": [
      "C:\\Users\\Jancsi\\anaconda3\\lib\\site-packages\\sklearn\\utils\\validation.py:1688: FutureWarning:\n",
      "\n",
      "Feature names only support names that are all strings. Got feature names with dtypes: ['float']. An error will be raised in 1.2.\n",
      "\n"
     ]
    }
   ],
   "source": [
    "directories_pred = clf.predict_proba(pdos_test)"
   ]
  },
  {
   "cell_type": "code",
   "execution_count": 123,
   "id": "b5b7fac4-b553-4052-9510-cecad598617f",
   "metadata": {},
   "outputs": [
    {
     "data": {
      "text/plain": [
       "(\"TOP_9_faults_conv_720_['1b', '2b', '4b', '8b']\",\n",
       " 180,\n",
       " \"BOT_7_faults_conv_720_['2b', '4b']\")"
      ]
     },
     "execution_count": 123,
     "metadata": {},
     "output_type": "execute_result"
    }
   ],
   "source": [
    "directories_pred_abs[16], argmax(directories_pred[16]), y_train[180]"
   ]
  },
  {
   "cell_type": "code",
   "execution_count": null,
   "id": "ee8292fe-d00d-4e59-abbd-0f032fcf9407",
   "metadata": {},
   "outputs": [],
   "source": []
  },
  {
   "cell_type": "code",
   "execution_count": null,
   "id": "9a70b054-eb0f-4e8f-b15f-7e5939b31fbb",
   "metadata": {},
   "outputs": [],
   "source": [
    "def abra(directory,directory_pred_proba):\n",
    "    layer = directory[:4]\n",
    "    directory_pred = array(y_train)[where(directory_pred_proba != 0)[0]]\n",
    "    layer_pred = [dir_pred[:4] for dir_pred in directory_pred]\n",
    "    print(where(directory_pred_proba != 0)[0])\n",
    "    print(layer_pred)\n",
    "    i = directories.index(directory[4:])\n",
    "    print(i)\n",
    "    i_pred = [directories.index(dir_pred[4:]) for dir_pred in directory_pred]\n",
    "    fig = plt.figure(figsize=(9, 9),facecolor='white')\n",
    "    ax = fig.add_subplot(111)\n",
    "    plot(E,pdos_top_sum_list[i],label=f'{layer} SUM',lw=2)\n",
    "    if 'TOP_' in layer_pred:\n",
    "        plot(E,pdos_top_sum_list[i_pred[0]],label=f'Top SUM prediction',lw=2)\n",
    "    if 'BOT_' in layer_pred:\n",
    "        plot(E,pdos_bot_sum_list[i_pred[0]],label=f'Bot SUM prediction',lw=2)\n",
    "    \n",
    "    legend(loc='upper right',fontsize=13)\n",
    "    xlabel('E [eV]',fontsize=13)\n",
    "    ylim(-1e4,8e4)\n",
    "    xlim(-0.5,0.5)\n",
    "    yticks([],[])\n",
    "    ylabel('D(E) [a.u.]',fontsize=13)\n",
    "    insax = inset_axes(ax, \n",
    "                    width=\"20%\", # width = 30% of parent_bbox\n",
    "                    height=\"20%\", # height : 1 inch\n",
    "                    loc=\"lower left\")\n",
    "    _ = chain_maker(N_list[i],faultok_list[i])\n",
    "    title(f\"true:\",fontsize=13)\n",
    "    for i_p,l in zip(i_pred,[4,7][:len(i_pred)]):\n",
    "        insax = inset_axes(ax, \n",
    "                        width=\"20%\", # width = 30% of parent_bbox\n",
    "                        height=\"20%\", # height : 1 inch\n",
    "                        loc=l)\n",
    "        _ = chain_maker(N_list[i_p],faultok_list[i_p])\n",
    "        title(f\"predicted:\",fontsize=13)\n",
    "    #savefig(f'predictions_4layers//{directories[i]}')\n",
    "    plt.show()"
   ]
  },
  {
   "cell_type": "code",
   "execution_count": null,
   "id": "25461fc0-8b33-4ddc-bedf-00535000f49d",
   "metadata": {},
   "outputs": [],
   "source": [
    "31\n",
    "def abra_jatszos(directory,directory_pred_proba):\n",
    "    layer = directory[:4]\n",
    "    directory_pred = array(y_train)[where(directory_pred_proba != 0)[0]]\n",
    "    print(where(directory_pred_proba != 0)[0])\n",
    "    layer_pred = [dir_pred[:4] for dir_pred in directory_pred]\n",
    "    print(layer_pred)\n",
    "    i = directories.index(directory[4:])\n",
    "    print(i)\n",
    "    i_pred = [directories.index(dir_pred[4:]) for dir_pred in directory_pred]\n",
    "    fig = plt.figure(figsize=(9, 9),facecolor='white')\n",
    "    ax = fig.add_subplot(111)\n",
    "    plot(E,pdos_bot_sum_list[i],label=f'Top SUM',lw=2)\n",
    "    plot(E,pdos_bot_sum_list[i_pred[0]],label=f'{layer_pred} SUM prediction',lw=2)\n",
    "    legend(loc='upper right',fontsize=13)\n",
    "    xlabel('E [eV]',fontsize=13)\n",
    "    ylim(-1e4,8e4)\n",
    "    xlim(-0.5,0.5)\n",
    "    yticks([],[])\n",
    "    ylabel('D(E) [a.u.]',fontsize=13)\n",
    "    insax = inset_axes(ax, \n",
    "                    width=\"20%\", # width = 30% of parent_bbox\n",
    "                    height=\"20%\", # height : 1 inch\n",
    "                    loc=\"lower left\")\n",
    "    _ = chain_maker(N_list[i],faultok_list[i])\n",
    "    title(f\"true:\",fontsize=13)\n",
    "    for i_p,l in zip(i_pred,[4,7][:len(i_pred)]):\n",
    "        insax = inset_axes(ax, \n",
    "                        width=\"20%\", # width = 30% of parent_bbox\n",
    "                        height=\"20%\", # height : 1 inch\n",
    "                        loc=l)\n",
    "        _ = chain_maker(N_list[i_p],faultok_list[i_p])\n",
    "        title(f\"predicted:\",fontsize=13)\n",
    "    #savefig(f'predictions_4layers//{directories[i]}')\n",
    "    plt.show()\n",
    "    \n",
    "abra_jatszos(y_test[16],directories_pred[16])"
   ]
  },
  {
   "cell_type": "code",
   "execution_count": 27,
   "id": "16447e92-a802-45f7-ade7-bc54a0da23f1",
   "metadata": {},
   "outputs": [
    {
     "data": {
      "text/plain": [
       "(\"10_faults_conv_720_['1b', '2b', '3b', '4b']\", 'TOP_2_faults_conv_720_[]')"
      ]
     },
     "execution_count": 27,
     "metadata": {},
     "output_type": "execute_result"
    }
   ],
   "source": [
    "directories[0],y_train[0]"
   ]
  },
  {
   "cell_type": "code",
   "execution_count": 28,
   "id": "6b344afa-80e3-4bad-afce-83f01900c1c5",
   "metadata": {
    "tags": []
   },
   "outputs": [
    {
     "ename": "NameError",
     "evalue": "name 'abra' is not defined",
     "output_type": "error",
     "traceback": [
      "\u001b[1;31m---------------------------------------------------------------------------\u001b[0m",
      "\u001b[1;31mNameError\u001b[0m                                 Traceback (most recent call last)",
      "\u001b[1;32m~\\AppData\\Local\\Temp\\ipykernel_15960\\3873400996.py\u001b[0m in \u001b[0;36m<module>\u001b[1;34m\u001b[0m\n\u001b[0;32m      1\u001b[0m \u001b[1;32mfor\u001b[0m \u001b[0mreal\u001b[0m\u001b[1;33m,\u001b[0m\u001b[0mpred\u001b[0m \u001b[1;32min\u001b[0m \u001b[0mzip\u001b[0m\u001b[1;33m(\u001b[0m\u001b[0my_test\u001b[0m\u001b[1;33m,\u001b[0m\u001b[0mdirectories_pred\u001b[0m\u001b[1;33m)\u001b[0m\u001b[1;33m:\u001b[0m\u001b[1;33m\u001b[0m\u001b[1;33m\u001b[0m\u001b[0m\n\u001b[1;32m----> 2\u001b[1;33m     \u001b[0mabra\u001b[0m\u001b[1;33m(\u001b[0m\u001b[0mreal\u001b[0m\u001b[1;33m,\u001b[0m\u001b[0mpred\u001b[0m\u001b[1;33m)\u001b[0m\u001b[1;33m\u001b[0m\u001b[1;33m\u001b[0m\u001b[0m\n\u001b[0m\u001b[0;32m      3\u001b[0m \u001b[1;33m\u001b[0m\u001b[0m\n",
      "\u001b[1;31mNameError\u001b[0m: name 'abra' is not defined"
     ]
    }
   ],
   "source": [
    "for real,pred in zip(y_test,directories_pred):\n",
    "    abra(real,pred)\n",
    "    "
   ]
  },
  {
   "cell_type": "code",
   "execution_count": null,
   "id": "e82707e5-2c1b-47f6-9800-d30d7b714c70",
   "metadata": {},
   "outputs": [],
   "source": [
    "'''\n",
    "labels_by_hand = []\n",
    "for real,pred in zip(y_test,directories_pred):\n",
    "    abra(real,pred)\n",
    "    \n",
    "    a = input()\n",
    "    labels_by_hand.append(a)\n",
    "    clear_output()\n",
    "'''"
   ]
  },
  {
   "cell_type": "code",
   "execution_count": null,
   "id": "422eaee2-57c5-4536-ab6c-6b22ef75dfcc",
   "metadata": {},
   "outputs": [],
   "source": [
    "len(y_test)/2"
   ]
  },
  {
   "cell_type": "code",
   "execution_count": null,
   "id": "7a430dc5-6ea6-4e88-856a-d97243c38948",
   "metadata": {},
   "outputs": [],
   "source": [
    "16, 101"
   ]
  },
  {
   "cell_type": "code",
   "execution_count": null,
   "id": "001c44ac-95ef-4553-a65d-e9a781d49455",
   "metadata": {},
   "outputs": [],
   "source": [
    "10+136,27+136,67+136"
   ]
  },
  {
   "cell_type": "code",
   "execution_count": null,
   "id": "fca23213-6870-4da7-9b0e-74baf99d9bbd",
   "metadata": {},
   "outputs": [],
   "source": [
    "abra(y_test[0],directories_pred[0])"
   ]
  },
  {
   "cell_type": "code",
   "execution_count": null,
   "id": "e3cb7a3a-d99f-4a5e-b62c-6857f17aa30a",
   "metadata": {},
   "outputs": [],
   "source": [
    "'TOP' == 'TOP'"
   ]
  },
  {
   "cell_type": "code",
   "execution_count": 57,
   "id": "5265a66c-1249-4974-b66d-3f3a835f1dd1",
   "metadata": {},
   "outputs": [],
   "source": [
    "def abra(directory,directory_pred,save=False):\n",
    "    layer = directory[:3]\n",
    "    layer_pred = directory_pred[:3]\n",
    "    i = directories.index(directory[4:])\n",
    "    i_pred = directories.index(directory_pred[4:])\n",
    "    print(i)\n",
    "    print(directory)\n",
    "    fig = plt.figure(figsize=(9, 9),facecolor='white')\n",
    "    ax = fig.add_subplot(111)\n",
    "    \n",
    "    if layer == 'TOP':\n",
    "        plot(E,pdos_top_sum_list[i],label='Top SUM',lw=2)\n",
    "    else:\n",
    "        plot(E,pdos_bot_sum_list[i],label='Bot SUM',lw=2)\n",
    "    if layer_pred == 'TOP':\n",
    "        plot(E,pdos_top_sum_list[i_pred],label='Top SUM prediction',lw=2)\n",
    "    else:\n",
    "        plot(E,pdos_bot_sum_list[i_pred],label='Bot SUM prediction',lw=2)\n",
    "    legend(loc='upper right',fontsize=16)\n",
    "    xlabel('E [eV]',fontsize=16)\n",
    "    ylim(-1e4,7e4)\n",
    "    xlim(-0.5,0.5)\n",
    "    yticks([],[])\n",
    "    ylabel('PDOS [a.u.]',fontsize=13)\n",
    "    insax = inset_axes(ax, \n",
    "                    width=\"20%\", # width = 30% of parent_bbox\n",
    "                    height=\"20%\", # height : 1 inch\n",
    "                    loc=\"lower left\")\n",
    "    _ = chain_maker(N_list[i],faultok_list[i])\n",
    "    title(f\"true:\",fontsize=16)\n",
    "    insax = inset_axes(ax, \n",
    "                    width=\"20%\", # width = 30% of parent_bbox\n",
    "                    height=\"20%\", # height : 1 inch\n",
    "                    loc=\"lower right\")\n",
    "    _ = chain_maker(N_list[i_pred],faultok_list[i_pred])\n",
    "    title(f\"predicted:\",fontsize=16)\n",
    "    if save == True:\n",
    "        savefig(f'{directory}_pred.pdf', bbox_inches='tight')\n",
    "    plt.show()"
   ]
  },
  {
   "cell_type": "code",
   "execution_count": null,
   "id": "8359e2e2-019e-4648-97c8-91290a5ca5d4",
   "metadata": {
    "tags": []
   },
   "outputs": [],
   "source": [
    "for real,pred in zip(y_test,directories_pred_abs):\n",
    "    abra(real,pred)\n",
    "    "
   ]
  },
  {
   "cell_type": "code",
   "execution_count": null,
   "id": "9fa90048-5bdc-4ef2-8e55-a9cc4b8d2d2a",
   "metadata": {},
   "outputs": [],
   "source": [
    "'''\n",
    "labels_by_hand = []\n",
    "for real,pred in zip(y_test,directories_pred_abs):\n",
    "    abra(real,pred)\n",
    "    \n",
    "    print(f'fosfasz')\n",
    "    \n",
    "\n",
    "    a = input()\n",
    "    labels_by_hand.append(a)\n",
    "    clear_output()\n",
    "'''"
   ]
  },
  {
   "cell_type": "code",
   "execution_count": null,
   "id": "70413646-ae7a-49f1-a153-77024e20b63a",
   "metadata": {},
   "outputs": [],
   "source": [
    "directories_pred_abs[16]"
   ]
  },
  {
   "cell_type": "code",
   "execution_count": null,
   "id": "928af79f-a3e2-45cd-8cbd-9c21de685f61",
   "metadata": {},
   "outputs": [],
   "source": [
    "#163, 16 példának"
   ]
  },
  {
   "cell_type": "code",
   "execution_count": null,
   "id": "69d8fec1-c8c5-437f-bcbf-1e663e7e4897",
   "metadata": {},
   "outputs": [],
   "source": [
    "#matching_layers = labels_by_hand"
   ]
  },
  {
   "cell_type": "code",
   "execution_count": null,
   "id": "f687a81f-ebfc-4f89-bace-d8c6256cf3ca",
   "metadata": {},
   "outputs": [],
   "source": [
    "#save('matchin_layers_up_down',matching_layers)"
   ]
  },
  {
   "cell_type": "code",
   "execution_count": 54,
   "id": "66af1f03-5093-40a3-a936-f81e57535eb7",
   "metadata": {},
   "outputs": [
    {
     "data": {
      "text/plain": [
       "array([9, 9, 5, 8, 5, 9, 9, 7, 5, 9, 5, 8, 9, 9, 9, 8, 7, 6, 7, 8, 8, 9,\n",
       "       8, 3, 7, 6, 9, 9, 7, 6, 5, 8, 9, 9, 8, 6, 5, 6, 6, 9, 9, 7, 7, 8,\n",
       "       7, 8, 8, 9, 6, 9, 6, 8, 8, 6, 4, 8, 9, 8, 6, 6, 9, 5, 9, 9, 7, 8,\n",
       "       8, 8, 8, 8, 7, 8, 9, 6, 9, 6, 9, 5, 9, 9, 9, 7, 5, 8, 9, 9, 5, 9,\n",
       "       8, 8, 8, 9, 8, 9, 6, 9, 8, 6, 8, 8, 6, 5, 8, 8, 8, 9, 9, 7, 9, 8,\n",
       "       9, 6, 7, 7, 8, 8, 7, 6, 4, 7, 9, 9, 5, 8, 7, 6, 7, 7, 9, 9, 6, 4,\n",
       "       7, 8, 9, 9, 6, 9, 8, 6, 5, 9, 9, 9, 4, 6, 4, 9, 9, 5, 8, 9, 6, 8,\n",
       "       8, 8, 9, 7, 4, 4, 4, 6, 5, 8, 2, 9, 8, 3, 9, 9, 5, 7, 9, 7, 8, 7,\n",
       "       9, 6, 4, 6, 5, 8, 5, 7, 8, 7, 9, 6, 9, 5, 8, 9, 6, 8, 4, 6, 8, 8,\n",
       "       9, 3, 9, 9, 8, 8, 9, 7, 7, 7, 8, 5, 5, 9, 6, 6, 9, 9, 9, 9, 8, 9,\n",
       "       9, 4, 7, 6, 9, 6, 9, 7, 7, 9, 7, 8, 5, 7, 6, 8, 9, 8, 8, 7, 7, 8,\n",
       "       3, 6, 8, 5, 9, 8, 5, 6, 5, 8, 9, 4, 7, 8, 9, 5, 9, 6, 8, 6, 6, 9,\n",
       "       9, 5, 6, 7, 7, 6, 9, 9])"
      ]
     },
     "execution_count": 54,
     "metadata": {},
     "output_type": "execute_result"
    }
   ],
   "source": [
    "conf_preds = array(load('matchin_layers_up_down.npy'),dtype=int)\n",
    "conf_preds"
   ]
  },
  {
   "cell_type": "code",
   "execution_count": 37,
   "id": "185c7b48-c005-403c-9d1a-3f5f70a467ac",
   "metadata": {},
   "outputs": [
    {
     "data": {
      "text/plain": [
       "(array([164], dtype=int64),)"
      ]
     },
     "execution_count": 37,
     "metadata": {},
     "output_type": "execute_result"
    }
   ],
   "source": [
    "where(conf_preds == 2)"
   ]
  },
  {
   "cell_type": "code",
   "execution_count": null,
   "id": "37ab9118-ddc7-4249-b5f6-bf833c246283",
   "metadata": {},
   "outputs": [],
   "source": [
    "where"
   ]
  },
  {
   "cell_type": "code",
   "execution_count": 60,
   "id": "1688e3aa-2944-407e-b338-47b7b3b8bc46",
   "metadata": {},
   "outputs": [
    {
     "name": "stdout",
     "output_type": "stream",
     "text": [
      "3\n",
      "TOP_10_faults_conv_720_['1b', '2b', '3b', '7b']\n"
     ]
    },
    {
     "data": {
      "image/png": "[encoded data removed]",
      "text/plain": [
       "<Figure size 900x900 with 3 Axes>"
      ]
     },
     "metadata": {},
     "output_type": "display_data"
    }
   ],
   "source": [
    "abra(y_test[3],directories_pred_abs[3],True)\n",
    "\n"
   ]
  },
  {
   "cell_type": "code",
   "execution_count": 55,
   "id": "4f24f985-63fd-41d7-8136-bbaa478a0455",
   "metadata": {},
   "outputs": [],
   "source": [
    "x, h = unique(conf_preds,return_counts=True)"
   ]
  },
  {
   "cell_type": "code",
   "execution_count": 56,
   "id": "074b79a0-af67-4cc7-b9ce-e865c803aca4",
   "metadata": {},
   "outputs": [
    {
     "data": {
      "text/plain": [
       "272"
      ]
     },
     "execution_count": 56,
     "metadata": {},
     "output_type": "execute_result"
    }
   ],
   "source": [
    "len(load('matchin_layers_up_down.npy'))"
   ]
  },
  {
   "cell_type": "code",
   "execution_count": 61,
   "id": "9eb3d0f8-7e71-453c-b3cc-971fa9e33a3f",
   "metadata": {},
   "outputs": [
    {
     "data": {
      "image/png": "[encoded data removed]",
      "text/plain": [
       "<Figure size 640x480 with 1 Axes>"
      ]
     },
     "metadata": {},
     "output_type": "display_data"
    }
   ],
   "source": [
    "bar1 = bar(x,h)\n",
    "yticks([],[])\n",
    "xlabel('Correctly predicted layers', fontsize=16)\n",
    "xticks([2,3,4,5,6,7,8,9],[2,3,4,5,6,7,8,9], fontsize=16)\n",
    "bar_label(bar1,labels=h,)\n",
    "savefig('layerspredicted.pdf', bbox_inches='tight')\n",
    "show()"
   ]
  },
  {
   "cell_type": "code",
   "execution_count": null,
   "id": "9fb8d872-7581-4d93-9249-dbabfdb17fca",
   "metadata": {},
   "outputs": [],
   "source": [
    "#save('matchin_layers_up_down',labels_by_hand)"
   ]
  },
  {
   "cell_type": "code",
   "execution_count": 126,
   "id": "66231c3d-4f50-4564-80b1-fb58a58805a6",
   "metadata": {},
   "outputs": [
    {
     "data": {
      "text/plain": [
       "(8.0, 7.279411764705882)"
      ]
     },
     "execution_count": 126,
     "metadata": {},
     "output_type": "execute_result"
    }
   ],
   "source": [
    "median(conf_preds),mean(conf_preds)"
   ]
  },
  {
   "cell_type": "code",
   "execution_count": null,
   "id": "aef1ca77-78ae-4ce3-a2ad-13a8ec06deca",
   "metadata": {},
   "outputs": [],
   "source": [
    "len(labels_by_hand)"
   ]
  },
  {
   "cell_type": "markdown",
   "id": "50f7a5b0-4a8b-4e76-b145-8ca4e090e89a",
   "metadata": {
    "tags": []
   },
   "source": [
    "# Half range Correlation all with 9"
   ]
  },
  {
   "cell_type": "code",
   "execution_count": null,
   "id": "d819463c-9810-4735-b63d-052c27b2d623",
   "metadata": {},
   "outputs": [],
   "source": [
    "pdos_top_sum_df = pd.DataFrame(data=pdos_top_sum_cut_list,columns=E[len(E)//4:3*len(E)//4])\n",
    "pdos_top_sum_df_train = pdos_top_sum_df.iloc[129:]\n",
    "#pdos_top_sum_df_train['y'] = directories[129:141]\n",
    "#pdos_top_sum_df_train = pd.get_dummies(pdos_top_sum_df_train,columns=['y'])\n",
    "y_train = directories[129:]"
   ]
  },
  {
   "cell_type": "code",
   "execution_count": null,
   "id": "99c9749a-c4da-4d25-be86-109c683dfc82",
   "metadata": {},
   "outputs": [],
   "source": []
  },
  {
   "cell_type": "code",
   "execution_count": null,
   "id": "02a6f228-25db-4923-9b52-ea7a924ad50b",
   "metadata": {},
   "outputs": [],
   "source": [
    "corr_mat = zeros([len(pdos_top_sum_df.values),len(pdos_top_sum_df_train.values)])\n",
    "for i,pdos_test in enumerate(pdos_top_sum_df.values):\n",
    "    for j,pdos_train in enumerate(pdos_top_sum_df_train.values):\n",
    "        corr_mat[i,j] = correlate(pdos_test,pdos_train)"
   ]
  },
  {
   "cell_type": "code",
   "execution_count": null,
   "id": "7c158c13-3255-4052-9a98-90e198111eb3",
   "metadata": {},
   "outputs": [],
   "source": [
    "best_fits_list = [argsort(line)[::-1][:3] for line in corr_mat] "
   ]
  },
  {
   "cell_type": "code",
   "execution_count": null,
   "id": "321593b7-5d0c-4c64-894e-b8bfbf79a841",
   "metadata": {
    "tags": []
   },
   "outputs": [],
   "source": []
  },
  {
   "cell_type": "code",
   "execution_count": null,
   "id": "5ec5add4-0d13-4263-902f-0092e1ecf148",
   "metadata": {},
   "outputs": [],
   "source": [
    "def abra(directory,i_pred):\n",
    "    i = directories.index(directory)\n",
    "    print(i)\n",
    "    print(directory)\n",
    "    fig = plt.figure(figsize=(9, 9),facecolor='white')\n",
    "    ax = fig.add_subplot(111)\n",
    "    plot(E,pdos_top_sum_list[i],label='Top-SUM')\n",
    "    plot(E,pdos_top_sum_list[129:][i_pred[0]],label='Top-SUM_pred')\n",
    "    grid()\n",
    "    title(f'{directory}')\n",
    "    legend(loc='upper right')\n",
    "    xlabel('E [eV]')\n",
    "    ylim(-1e4,8e4)\n",
    "    insax = inset_axes(ax, \n",
    "                    width=\"20%\", # width = 30% of parent_bbox\n",
    "                    height=\"20%\", # height : 1 inch\n",
    "                    loc=\"lower left\")\n",
    "    _ = chain_maker(N_list[i],faultok_list[i])\n",
    "    title(f\"true:\")\n",
    "    insax = inset_axes(ax, \n",
    "                    width=\"20%\", # width = 30% of parent_bbox\n",
    "                    height=\"20%\", # height : 1 inch\n",
    "                    loc=\"lower right\")\n",
    "    _ = chain_maker(N_list[129:][i_pred[0]],faultok_list[129:][i_pred[0]])\n",
    "    title(f\"best predicted:\")\n",
    "    insax = inset_axes(ax, \n",
    "                    width=\"20%\", # width = 30% of parent_bbox\n",
    "                    height=\"20%\", # height : 1 inch\n",
    "                    loc=\"center right\")\n",
    "    _ = chain_maker(N_list[129:][i_pred[1]],faultok_list[129:][i_pred[1]])\n",
    "    title(f\"second predicted:\")\n",
    "    insax = inset_axes(ax, \n",
    "                    width=\"20%\", # width = 30% of parent_bbox\n",
    "                    height=\"20%\", # height : 1 inch\n",
    "                    loc=\"upper right\")\n",
    "    _ = chain_maker(N_list[129:][i_pred[2]],faultok_list[129:][i_pred[2]])\n",
    "    title(f\"third predicted:\")\n",
    "    #savefig(f'predictions_4layers//{directories[i]}')\n",
    "    plt.show()"
   ]
  },
  {
   "cell_type": "code",
   "execution_count": null,
   "id": "b3a473a8-568b-4550-8312-bd5662748bac",
   "metadata": {
    "tags": []
   },
   "outputs": [],
   "source": [
    "for real,pred in zip(directories,best_fits_list):\n",
    "    abra(real,pred)\n",
    "    "
   ]
  },
  {
   "cell_type": "code",
   "execution_count": null,
   "id": "132992da-8724-4e5f-9239-2ecdfd81c383",
   "metadata": {},
   "outputs": [],
   "source": []
  },
  {
   "cell_type": "code",
   "execution_count": null,
   "id": "2023e5b1-62f9-4c4d-842b-7f6a4ceda14f",
   "metadata": {},
   "outputs": [],
   "source": [
    "chain_maker(6,['2b','4b'])"
   ]
  },
  {
   "cell_type": "markdown",
   "id": "838c12b0-a41d-4904-a60b-b92e88bf341e",
   "metadata": {},
   "source": [
    "# 1 fault place"
   ]
  },
  {
   "cell_type": "code",
   "execution_count": null,
   "id": "df69ac54-9a96-4786-9369-0f4abc6a35ec",
   "metadata": {},
   "outputs": [],
   "source": [
    "minus_E_peak = [307,328,346,361,373,383,390,397]\n",
    "mid_E_peak = [503,500,499,498,497,497,496,496]\n",
    "plust_E_peak = [625,611,599,588,579,570,563,557]"
   ]
  },
  {
   "cell_type": "code",
   "execution_count": null,
   "id": "4cdbc076-286c-478c-a0d5-fe5bee2fb878",
   "metadata": {},
   "outputs": [],
   "source": [
    "hibatlan_list = [fault for fault in faultok_list if len(fault)==1]"
   ]
  },
  {
   "cell_type": "code",
   "execution_count": null,
   "id": "7fdc7c28-c1b2-4805-b297-09c25e4bce92",
   "metadata": {},
   "outputs": [],
   "source": [
    "chain_maker(10,['1b'])\n",
    "show()\n",
    "chain_maker(10,['6b'])\n"
   ]
  },
  {
   "cell_type": "code",
   "execution_count": null,
   "id": "8be37c9a-39a8-4702-a5f0-deeadf6207e9",
   "metadata": {},
   "outputs": [],
   "source": [
    "egyhibak_list = [fault for fault in faultok_list[:129] if len(fault)==1]"
   ]
  },
  {
   "cell_type": "code",
   "execution_count": null,
   "id": "1becae37-89ac-47f9-9561-ad587d98fe00",
   "metadata": {},
   "outputs": [],
   "source": [
    "egyhibak_list = [egyhibak_list[-1]] + egyhibak_list[:-1]"
   ]
  },
  {
   "cell_type": "code",
   "execution_count": null,
   "id": "e9b939b1-683d-41d1-a824-27a157575a39",
   "metadata": {},
   "outputs": [],
   "source": [
    "fig = plt.figure(figsize=(5, 9),facecolor='white')\n",
    "for j,hiba in enumerate(egyhibak_list):\n",
    "    i = faultok_list[:129].index(hiba)\n",
    "    plot(E,2*pdos_top_sum_list[i]+j*max(pdos_top_sum_list[i]),label=f'top_{hiba}')\n",
    "    \n",
    "for j,hiba in enumerate(egyhibak_list[1:-1][::-1]):\n",
    "    i = faultok_list[:129].index(hiba)\n",
    "    plot(E,2*pdos_bot_sum_list[i]+(j+6)*max(pdos_top_sum_list[i]),label=f'bot_{hiba}')\n",
    "    \n",
    "    \n",
    "\n",
    "legend(loc='upper right')\n",
    "xlabel('E [eV]')\n",
    "xlim(-0.5,0.5)\n",
    "#ylim(-1e4,8e4)\n",
    "yticks([]) "
   ]
  },
  {
   "cell_type": "code",
   "execution_count": null,
   "id": "d30a0161-37b7-45ab-b57e-867c13f05157",
   "metadata": {
    "tags": []
   },
   "outputs": [],
   "source": []
  },
  {
   "cell_type": "markdown",
   "id": "3f02f426-a7b9-432d-934b-2f59f8c5a341",
   "metadata": {},
   "source": [
    "# With PCA"
   ]
  },
  {
   "cell_type": "code",
   "execution_count": null,
   "id": "c442d2a3-8be9-4748-93be-7275963b5900",
   "metadata": {},
   "outputs": [],
   "source": [
    "from sklearn.decomposition import PCA"
   ]
  },
  {
   "cell_type": "code",
   "execution_count": null,
   "id": "e217822c-85fb-43ea-a49d-2268d345df82",
   "metadata": {},
   "outputs": [],
   "source": []
  },
  {
   "cell_type": "code",
   "execution_count": null,
   "id": "666fd84b-3797-424f-9bb5-e151eb893bd4",
   "metadata": {},
   "outputs": [],
   "source": [
    "pdos_top_sum_PCA_reverse_df = pca.inverse_transform(pdos_top_sum_PCA_df)"
   ]
  },
  {
   "cell_type": "code",
   "execution_count": null,
   "id": "a993bb6a-de0f-427e-8702-acbb3271059b",
   "metadata": {},
   "outputs": [],
   "source": []
  },
  {
   "cell_type": "code",
   "execution_count": null,
   "id": "c894cc45-db1a-4fad-ae98-7cd8999f85fc",
   "metadata": {},
   "outputs": [],
   "source": [
    "pdos_top_sum_cut_list = [pdos_top_sum[len(pdos_top_sum)//4:3*len(pdos_top_sum)//4] for pdos_top_sum in pdos_top_sum_list]"
   ]
  },
  {
   "cell_type": "code",
   "execution_count": null,
   "id": "b1e24411-e5b0-4b31-8f8c-96f3e8bd26fd",
   "metadata": {},
   "outputs": [],
   "source": [
    "pdos_top_sum_df = pd.DataFrame(data=pdos_top_sum_cut_list,columns=E[len(E)//4:3*len(E)//4])"
   ]
  },
  {
   "cell_type": "code",
   "execution_count": null,
   "id": "85865c43-2dda-48e7-9c32-3107991641be",
   "metadata": {},
   "outputs": [],
   "source": [
    "pca = PCA(n_components=1)\n",
    "pdos_top_sum_df = pca.fit_transform(pdos_top_sum_df)"
   ]
  },
  {
   "cell_type": "code",
   "execution_count": null,
   "id": "709877e2-5f6a-476a-a2e1-2385c73152fc",
   "metadata": {},
   "outputs": [],
   "source": []
  },
  {
   "cell_type": "code",
   "execution_count": null,
   "id": "fe0c55b2-cce0-4286-b26b-9b4941d31c81",
   "metadata": {},
   "outputs": [],
   "source": [
    "pdos_top_sum_df_train = pdos_top_sum_df[129:]\n",
    "#pdos_top_sum_df_train['y'] = directories[129:141]\n",
    "#pdos_top_sum_df_train = pd.get_dummies(pdos_top_sum_df_train,columns=['y'])\n",
    "y_train = directories[129:]"
   ]
  },
  {
   "cell_type": "code",
   "execution_count": null,
   "id": "86eccfbd-f44b-4146-b974-d385fc83aa3b",
   "metadata": {},
   "outputs": [],
   "source": []
  },
  {
   "cell_type": "code",
   "execution_count": null,
   "id": "5659b93d-c7b6-4e06-b7e7-2b7eabb12782",
   "metadata": {},
   "outputs": [],
   "source": [
    "clf = DecisionTreeClassifier().fit(pdos_top_sum_df_train,y_train)"
   ]
  },
  {
   "cell_type": "code",
   "execution_count": null,
   "id": "32097dd8-a223-4eba-959e-a727320036e6",
   "metadata": {},
   "outputs": [],
   "source": [
    "'''\n",
    "plt.figure(figsize = (30, 15))\n",
    "title(\"Minden\")\n",
    "plot_tree(clf, max_depth=20, filled=True, \n",
    "          feature_names=pdos_top_sum_df_train.columns, class_names=sorted(y_train),\n",
    "          fontsize = 8, proportion = True,);\n",
    "          '''"
   ]
  },
  {
   "cell_type": "code",
   "execution_count": null,
   "id": "d13ba205-b540-4b02-b6aa-299424a7aa1f",
   "metadata": {},
   "outputs": [],
   "source": [
    "directories_pred = clf.predict(pdos_top_sum_df)"
   ]
  },
  {
   "cell_type": "code",
   "execution_count": null,
   "id": "a7cf6a47-0a0d-4a1d-9ac0-643e715891aa",
   "metadata": {},
   "outputs": [],
   "source": [
    "def abra(directory,directory_pred):\n",
    "    i = directories.index(directory)\n",
    "    i_pred = directories.index(directory_pred)\n",
    "    print(i)\n",
    "    print(directory)\n",
    "    fig = plt.figure(figsize=(9, 9),facecolor='white')\n",
    "    ax = fig.add_subplot(111)\n",
    "    plot(E,pdos_top_sum_list[i],label='Top-SUM')\n",
    "    plot(E,pdos_top_sum_list[i_pred],label='Top-SUM_pred')\n",
    "    grid()\n",
    "    title(f'{directory}')\n",
    "    legend(loc='upper right')\n",
    "    xlabel('E [eV]')\n",
    "    ylim(-1e4,8e4)\n",
    "    insax = inset_axes(ax, \n",
    "                    width=\"20%\", # width = 30% of parent_bbox\n",
    "                    height=\"20%\", # height : 1 inch\n",
    "                    loc=\"lower left\")\n",
    "    _ = chain_maker(N_list[i],faultok_list[i])\n",
    "    title(f\"true: {directories[i]}\")\n",
    "    insax = inset_axes(ax, \n",
    "                    width=\"20%\", # width = 30% of parent_bbox\n",
    "                    height=\"20%\", # height : 1 inch\n",
    "                    loc=\"lower right\")\n",
    "    _ = chain_maker(N_list[i_pred],faultok_list[i_pred])\n",
    "    title(f\"predicted: {directories[i_pred]}\")\n",
    "    #savefig(f'predictions_4layers//{directories[i]}')\n",
    "    plt.show()"
   ]
  },
  {
   "cell_type": "code",
   "execution_count": null,
   "id": "d81f6483-a066-4757-9c25-fe907ac2685f",
   "metadata": {},
   "outputs": [],
   "source": []
  },
  {
   "cell_type": "code",
   "execution_count": null,
   "id": "03ce0f58-f61a-4a1a-b9ec-caa36867bf86",
   "metadata": {
    "tags": []
   },
   "outputs": [],
   "source": [
    "for real,pred in zip(directories,directories_pred):\n",
    "    abra(real,pred)\n",
    "    "
   ]
  },
  {
   "cell_type": "code",
   "execution_count": null,
   "id": "4d9ae6ee-8ded-44aa-8e97-fe121f877572",
   "metadata": {},
   "outputs": [],
   "source": []
  },
  {
   "cell_type": "code",
   "execution_count": null,
   "id": "930a604d-0113-4ac3-b697-fc1b88df02ac",
   "metadata": {},
   "outputs": [],
   "source": []
  }
 ],
 "metadata": {
  "kernelspec": {
   "display_name": "Python 3 (ipykernel)",
   "language": "python",
   "name": "python3"
  },
  "language_info": {
   "codemirror_mode": {
    "name": "ipython",
    "version": 3
   },
   "file_extension": ".py",
   "mimetype": "text/x-python",
   "name": "python",
   "nbconvert_exporter": "python",
   "pygments_lexer": "ipython3",
   "version": "3.10.9"
  }
 },
 "nbformat": 4,
 "nbformat_minor": 5
}
